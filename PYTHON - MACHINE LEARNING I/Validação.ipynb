{
 "cells": [
  {
   "cell_type": "code",
   "execution_count": 93,
   "id": "7b6a0af2",
   "metadata": {},
   "outputs": [
    {
     "data": {
      "text/html": [
       "<div>\n",
       "<style scoped>\n",
       "    .dataframe tbody tr th:only-of-type {\n",
       "        vertical-align: middle;\n",
       "    }\n",
       "\n",
       "    .dataframe tbody tr th {\n",
       "        vertical-align: top;\n",
       "    }\n",
       "\n",
       "    .dataframe thead th {\n",
       "        text-align: right;\n",
       "    }\n",
       "</style>\n",
       "<table border=\"1\" class=\"dataframe\">\n",
       "  <thead>\n",
       "    <tr style=\"text-align: right;\">\n",
       "      <th></th>\n",
       "      <th>preco</th>\n",
       "      <th>vendido</th>\n",
       "      <th>idade_do_modelo</th>\n",
       "      <th>km_por_ano</th>\n",
       "    </tr>\n",
       "  </thead>\n",
       "  <tbody>\n",
       "    <tr>\n",
       "      <th>0</th>\n",
       "      <td>30941.02</td>\n",
       "      <td>1</td>\n",
       "      <td>18</td>\n",
       "      <td>35085.22134</td>\n",
       "    </tr>\n",
       "    <tr>\n",
       "      <th>1</th>\n",
       "      <td>40557.96</td>\n",
       "      <td>1</td>\n",
       "      <td>20</td>\n",
       "      <td>12622.05362</td>\n",
       "    </tr>\n",
       "    <tr>\n",
       "      <th>2</th>\n",
       "      <td>89627.50</td>\n",
       "      <td>0</td>\n",
       "      <td>12</td>\n",
       "      <td>11440.79806</td>\n",
       "    </tr>\n",
       "    <tr>\n",
       "      <th>3</th>\n",
       "      <td>95276.14</td>\n",
       "      <td>0</td>\n",
       "      <td>3</td>\n",
       "      <td>43167.32682</td>\n",
       "    </tr>\n",
       "    <tr>\n",
       "      <th>4</th>\n",
       "      <td>117384.68</td>\n",
       "      <td>1</td>\n",
       "      <td>4</td>\n",
       "      <td>12770.11290</td>\n",
       "    </tr>\n",
       "  </tbody>\n",
       "</table>\n",
       "</div>"
      ],
      "text/plain": [
       "       preco  vendido  idade_do_modelo   km_por_ano\n",
       "0   30941.02        1               18  35085.22134\n",
       "1   40557.96        1               20  12622.05362\n",
       "2   89627.50        0               12  11440.79806\n",
       "3   95276.14        0                3  43167.32682\n",
       "4  117384.68        1                4  12770.11290"
      ]
     },
     "execution_count": 93,
     "metadata": {},
     "output_type": "execute_result"
    }
   ],
   "source": [
    "import pandas as pd\n",
    "\n",
    "uri = \"https://gist.githubusercontent.com/guilhermesilveira/e99a526b2e7ccc6c3b70f53db43a87d2/raw/1605fc74aa778066bf2e6695e24d53cf65f2f447/machine-learning-carros-simulacao.csv\"\n",
    "dados = pd.read_csv(uri).drop(columns=[\"Unnamed: 0\"], axis=1)\n",
    "dados.head()"
   ]
  },
  {
   "cell_type": "code",
   "execution_count": 94,
   "id": "fa8ba1ee",
   "metadata": {},
   "outputs": [
    {
     "data": {
      "text/plain": [
       "(10000, 4)"
      ]
     },
     "execution_count": 94,
     "metadata": {},
     "output_type": "execute_result"
    }
   ],
   "source": [
    "dados.shape"
   ]
  },
  {
   "cell_type": "code",
   "execution_count": 95,
   "id": "6bf78479",
   "metadata": {},
   "outputs": [],
   "source": [
    "import numpy as np\n",
    "from sklearn.model_selection import train_test_split\n",
    "from sklearn.svm import LinearSVC\n",
    "from sklearn.metrics import accuracy_score\n"
   ]
  },
  {
   "cell_type": "code",
   "execution_count": 96,
   "id": "17a7de44",
   "metadata": {},
   "outputs": [
    {
     "name": "stdout",
     "output_type": "stream",
     "text": [
      "Treinaremos com 7500 elementos e testaremos com 2500 elementos\n"
     ]
    }
   ],
   "source": [
    "x = dados[['preco','idade_do_modelo','km_por_ano']]\n",
    "y = dados['vendido']\n",
    "\n",
    ".\n",
    "SEED = 158020\n",
    "np.random.seed(SEED)\n",
    "\n",
    "treino_x, teste_x, treino_y, teste_y = train_test_split(x, y, test_size = 0.25,\n",
    "                                                         stratify = y)\n",
    "print(\"Treinaremos com %d elementos e testaremos com %d elementos\" % (len(treino_x), len(teste_x)))"
   ]
  },
  {
   "cell_type": "code",
   "execution_count": 97,
   "id": "8fb2179a",
   "metadata": {},
   "outputs": [
    {
     "name": "stdout",
     "output_type": "stream",
     "text": [
      "Acurácia do Dummy: 58.0% \n"
     ]
    }
   ],
   "source": [
    "from sklearn.dummy import DummyClassifier\n",
    "\n",
    "dummy = DummyClassifier()\n",
    "dummy.fit(treino_x, treino_y)\n",
    "acuracia = (dummy.score(teste_x,teste_y)*100).round(2)\n",
    "print(f'Acurácia do Dummy: {acuracia}% ')"
   ]
  },
  {
   "cell_type": "code",
   "execution_count": 98,
   "id": "a786f6b6",
   "metadata": {},
   "outputs": [
    {
     "name": "stdout",
     "output_type": "stream",
     "text": [
      "A acurácia foi 71.92%\n"
     ]
    }
   ],
   "source": [
    "from sklearn.tree import DecisionTreeClassifier\n",
    "\n",
    "SEED = 158020\n",
    "np.random.seed(SEED)\n",
    "modelo = DecisionTreeClassifier(max_depth=2)\n",
    "modelo.fit(treino_x, treino_y)\n",
    "previsoes = modelo.predict(teste_x)\n",
    "\n",
    "acuracia = accuracy_score(teste_y, previsoes) * 100\n",
    "print (\"A acurácia foi %.2f%%\" % acuracia)"
   ]
  },
  {
   "cell_type": "markdown",
   "id": "89954cd3",
   "metadata": {},
   "source": [
    "Alterando o SEED altera-se a acurácia"
   ]
  },
  {
   "cell_type": "markdown",
   "id": "d5f08f6f",
   "metadata": {},
   "source": [
    "## Validação Cruzada"
   ]
  },
  {
   "cell_type": "code",
   "execution_count": 99,
   "id": "6c120169",
   "metadata": {},
   "outputs": [
    {
     "name": "stdout",
     "output_type": "stream",
     "text": [
      "Intervalo de acurácia: (75.21, 76.35)\n"
     ]
    }
   ],
   "source": [
    "from sklearn.model_selection import cross_validate\n",
    "SEED = 158020\n",
    "modelo = DecisionTreeClassifier(max_depth=2)\n",
    "resultados = cross_validate(modelo,x,y,cv = 5)\n",
    "media = resultados['test_score'].mean()\n",
    "desv_pad = resultados['test_score'].std()\n",
    "print(f'Intervalo de acurácia: {((media - 2*desv_pad)*100).round(2), ((media + 2*desv_pad)*100).round(2)}')"
   ]
  },
  {
   "cell_type": "markdown",
   "id": "ef29efd9",
   "metadata": {},
   "source": [
    "### Aleatoriedade no cross validate"
   ]
  },
  {
   "cell_type": "code",
   "execution_count": 100,
   "id": "c52dd2c6",
   "metadata": {},
   "outputs": [],
   "source": [
    "def imprime_resultados(results):\n",
    "    media = results['test_score'].mean()\n",
    "    desv_pad = results['test_score'].std()\n",
    "    print(f'Média da acurácia: {(media*100).round(2)} %')\n",
    "    print(f'Intervalo da acurácia: {((media - 2*desv_pad)*100).round(2), ((media + 2*desv_pad)*100).round(2)}')"
   ]
  },
  {
   "cell_type": "code",
   "execution_count": 101,
   "id": "b1f09d2f",
   "metadata": {},
   "outputs": [
    {
     "name": "stdout",
     "output_type": "stream",
     "text": [
      "Média da acurácia: 75.78 %\n",
      "Intervalo da acurácia: (74.37, 77.19)\n"
     ]
    }
   ],
   "source": [
    "from sklearn.model_selection import KFold\n",
    "\n",
    "cv = KFold(n_splits=10)\n",
    "\n",
    "modelo = DecisionTreeClassifier(max_depth=2)\n",
    "results = cross_validate(modelo,x,y,cv = cv)\n",
    "media = resultados['test_score'].mean()\n",
    "desv_pad = resultados['test_score'].std()\n",
    "imprime_resultados(results)"
   ]
  },
  {
   "cell_type": "code",
   "execution_count": 102,
   "id": "5363b02d",
   "metadata": {},
   "outputs": [
    {
     "name": "stdout",
     "output_type": "stream",
     "text": [
      "Média da acurácia: 75.76 %\n",
      "Intervalo da acurácia: (73.46, 78.06)\n"
     ]
    }
   ],
   "source": [
    "SEED = 301\n",
    "np.random.seed(SEED)\n",
    "cv = KFold(n_splits=5, shuffle=True)\n",
    "\n",
    "modelo = DecisionTreeClassifier(max_depth=2)\n",
    "results = cross_validate(modelo,x,y,cv = cv)\n",
    "media = resultados['test_score'].mean()\n",
    "desv_pad = resultados['test_score'].std()\n",
    "imprime_resultados(results)"
   ]
  },
  {
   "cell_type": "markdown",
   "id": "fceda84c",
   "metadata": {},
   "source": [
    "## Simulando situação de azar / proporção desbalanceada"
   ]
  },
  {
   "cell_type": "code",
   "execution_count": 103,
   "id": "787943d8",
   "metadata": {},
   "outputs": [],
   "source": [
    "dados_azar = dados.sort_values('vendido',ascending=True)\n",
    "x_azar = dados_azar[['preco','idade_do_modelo','km_por_ano']]\n",
    "y_azar = dados_azar['vendido']\n"
   ]
  },
  {
   "cell_type": "code",
   "execution_count": 104,
   "id": "f9575a8c",
   "metadata": {},
   "outputs": [
    {
     "name": "stdout",
     "output_type": "stream",
     "text": [
      "Média da acurácia: 57.84 %\n",
      "Intervalo da acurácia: (34.29, 81.39)\n"
     ]
    }
   ],
   "source": [
    "# sem shuffle\n",
    "cv = KFold(n_splits=10)\n",
    "\n",
    "modelo = DecisionTreeClassifier(max_depth=2)\n",
    "results = cross_validate(modelo,x_azar,y_azar,cv = cv)\n",
    "media = resultados['test_score'].mean()\n",
    "desv_pad = resultados['test_score'].std()\n",
    "imprime_resultados(results)"
   ]
  },
  {
   "cell_type": "code",
   "execution_count": 105,
   "id": "3137cbd6",
   "metadata": {},
   "outputs": [
    {
     "name": "stdout",
     "output_type": "stream",
     "text": [
      "Média da acurácia: 75.78 %\n",
      "Intervalo da acurácia: (73.35, 78.21)\n"
     ]
    }
   ],
   "source": [
    "# com shuffle\n",
    "SEED = 301\n",
    "np.random.seed(SEED)\n",
    "cv = KFold(n_splits=5, shuffle=True)\n",
    "\n",
    "modelo = DecisionTreeClassifier(max_depth=2)\n",
    "results = cross_validate(modelo,x_azar,y_azar,cv = cv)\n",
    "media = resultados['test_score'].mean()\n",
    "desv_pad = resultados['test_score'].std()\n",
    "imprime_resultados(results)"
   ]
  },
  {
   "cell_type": "code",
   "execution_count": 106,
   "id": "8fdff5a7",
   "metadata": {},
   "outputs": [
    {
     "name": "stdout",
     "output_type": "stream",
     "text": [
      "Média da acurácia: 75.78 %\n",
      "Intervalo da acurácia: (72.93, 78.63)\n"
     ]
    }
   ],
   "source": [
    "# usando o stratified\n",
    "from sklearn.model_selection import StratifiedKFold\n",
    "\n",
    "cv = StratifiedKFold(n_splits=10, shuffle=True)\n",
    "\n",
    "modelo = DecisionTreeClassifier(max_depth=2)\n",
    "results = cross_validate(modelo,x_azar,y_azar,cv = cv)\n",
    "media = resultados['test_score'].mean()\n",
    "desv_pad = resultados['test_score'].std()\n",
    "imprime_resultados(results)"
   ]
  },
  {
   "cell_type": "markdown",
   "id": "dd1bc911",
   "metadata": {},
   "source": [
    "## Gerando dados aleatórios"
   ]
  },
  {
   "cell_type": "code",
   "execution_count": 107,
   "id": "73d41023",
   "metadata": {},
   "outputs": [],
   "source": [
    "np.random.seed(SEED)\n",
    "dados['modelo'] = dados.idade_do_modelo + np.random.randint(-2,3,size=10000) \n",
    "dados.modelo = dados.modelo + abs(dados.modelo.min()) + 1\n"
   ]
  },
  {
   "cell_type": "code",
   "execution_count": 108,
   "id": "1eb6185a",
   "metadata": {},
   "outputs": [
    {
     "data": {
      "text/html": [
       "<div>\n",
       "<style scoped>\n",
       "    .dataframe tbody tr th:only-of-type {\n",
       "        vertical-align: middle;\n",
       "    }\n",
       "\n",
       "    .dataframe tbody tr th {\n",
       "        vertical-align: top;\n",
       "    }\n",
       "\n",
       "    .dataframe thead th {\n",
       "        text-align: right;\n",
       "    }\n",
       "</style>\n",
       "<table border=\"1\" class=\"dataframe\">\n",
       "  <thead>\n",
       "    <tr style=\"text-align: right;\">\n",
       "      <th></th>\n",
       "      <th>preco</th>\n",
       "      <th>vendido</th>\n",
       "      <th>idade_do_modelo</th>\n",
       "      <th>km_por_ano</th>\n",
       "      <th>modelo</th>\n",
       "    </tr>\n",
       "  </thead>\n",
       "  <tbody>\n",
       "    <tr>\n",
       "      <th>0</th>\n",
       "      <td>30941.02</td>\n",
       "      <td>1</td>\n",
       "      <td>18</td>\n",
       "      <td>35085.22134</td>\n",
       "      <td>18</td>\n",
       "    </tr>\n",
       "    <tr>\n",
       "      <th>1</th>\n",
       "      <td>40557.96</td>\n",
       "      <td>1</td>\n",
       "      <td>20</td>\n",
       "      <td>12622.05362</td>\n",
       "      <td>24</td>\n",
       "    </tr>\n",
       "    <tr>\n",
       "      <th>2</th>\n",
       "      <td>89627.50</td>\n",
       "      <td>0</td>\n",
       "      <td>12</td>\n",
       "      <td>11440.79806</td>\n",
       "      <td>14</td>\n",
       "    </tr>\n",
       "    <tr>\n",
       "      <th>3</th>\n",
       "      <td>95276.14</td>\n",
       "      <td>0</td>\n",
       "      <td>3</td>\n",
       "      <td>43167.32682</td>\n",
       "      <td>6</td>\n",
       "    </tr>\n",
       "    <tr>\n",
       "      <th>4</th>\n",
       "      <td>117384.68</td>\n",
       "      <td>1</td>\n",
       "      <td>4</td>\n",
       "      <td>12770.11290</td>\n",
       "      <td>5</td>\n",
       "    </tr>\n",
       "    <tr>\n",
       "      <th>5</th>\n",
       "      <td>55405.26</td>\n",
       "      <td>1</td>\n",
       "      <td>11</td>\n",
       "      <td>23594.53374</td>\n",
       "      <td>13</td>\n",
       "    </tr>\n",
       "    <tr>\n",
       "      <th>6</th>\n",
       "      <td>93415.61</td>\n",
       "      <td>1</td>\n",
       "      <td>16</td>\n",
       "      <td>16077.30660</td>\n",
       "      <td>20</td>\n",
       "    </tr>\n",
       "    <tr>\n",
       "      <th>7</th>\n",
       "      <td>65265.09</td>\n",
       "      <td>0</td>\n",
       "      <td>10</td>\n",
       "      <td>18666.73466</td>\n",
       "      <td>14</td>\n",
       "    </tr>\n",
       "    <tr>\n",
       "      <th>8</th>\n",
       "      <td>43917.53</td>\n",
       "      <td>1</td>\n",
       "      <td>19</td>\n",
       "      <td>12607.56956</td>\n",
       "      <td>19</td>\n",
       "    </tr>\n",
       "    <tr>\n",
       "      <th>9</th>\n",
       "      <td>107860.41</td>\n",
       "      <td>1</td>\n",
       "      <td>15</td>\n",
       "      <td>24000.08742</td>\n",
       "      <td>15</td>\n",
       "    </tr>\n",
       "  </tbody>\n",
       "</table>\n",
       "</div>"
      ],
      "text/plain": [
       "       preco  vendido  idade_do_modelo   km_por_ano  modelo\n",
       "0   30941.02        1               18  35085.22134      18\n",
       "1   40557.96        1               20  12622.05362      24\n",
       "2   89627.50        0               12  11440.79806      14\n",
       "3   95276.14        0                3  43167.32682       6\n",
       "4  117384.68        1                4  12770.11290       5\n",
       "5   55405.26        1               11  23594.53374      13\n",
       "6   93415.61        1               16  16077.30660      20\n",
       "7   65265.09        0               10  18666.73466      14\n",
       "8   43917.53        1               19  12607.56956      19\n",
       "9  107860.41        1               15  24000.08742      15"
      ]
     },
     "execution_count": 108,
     "metadata": {},
     "output_type": "execute_result"
    }
   ],
   "source": [
    "dados.head(10)"
   ]
  },
  {
   "cell_type": "markdown",
   "id": "9348fca4",
   "metadata": {},
   "source": [
    "## Validação cruzada usando grupos"
   ]
  },
  {
   "cell_type": "code",
   "execution_count": 111,
   "id": "8e6c1d91",
   "metadata": {},
   "outputs": [
    {
     "name": "stdout",
     "output_type": "stream",
     "text": [
      "Média da acurácia: 75.78 %\n",
      "Intervalo da acurácia: (73.67, 77.9)\n"
     ]
    }
   ],
   "source": [
    "from sklearn.model_selection import GroupKFold\n",
    "SEED = 301\n",
    "np.random.seed(SEED)\n",
    "cv = GroupKFold(n_splits=10)\n",
    "\n",
    "modelo = DecisionTreeClassifier(max_depth=2)\n",
    "results = cross_validate(modelo,x_azar,y_azar,cv = cv, groups=dados.modelo)\n",
    "media = resultados['test_score'].mean()\n",
    "desv_pad = resultados['test_score'].std()\n",
    "imprime_resultados(results)"
   ]
  },
  {
   "cell_type": "markdown",
   "id": "79f6a75c",
   "metadata": {},
   "source": [
    "## Validação cruzada com escaldor"
   ]
  },
  {
   "cell_type": "code",
   "execution_count": 114,
   "id": "d2e70956",
   "metadata": {},
   "outputs": [],
   "source": [
    "from sklearn.preprocessing import StandardScaler\n",
    "from sklearn.svm import SVC\n",
    "\n",
    "scaler = StandardScaler()\n",
    "scaler.fit(x)\n",
    "treino_x_escalado = scaler.transform(treino_x)\n",
    "teste_x_escalado = scaler.transform(teste_x)\n"
   ]
  },
  {
   "cell_type": "code",
   "execution_count": 118,
   "id": "ff9832a3",
   "metadata": {},
   "outputs": [
    {
     "name": "stdout",
     "output_type": "stream",
     "text": [
      "A acurácia foi 74.36%\n"
     ]
    }
   ],
   "source": [
    "SEED = 301\n",
    "np.random.seed(SEED)\n",
    "modelo = SVC()\n",
    "modelo.fit(treino_x_escalado, treino_y)\n",
    "previsoes = modelo.predict(teste_x_escalado)\n",
    "acuracia = accuracy_score(teste_y, previsoes) * 100\n",
    "print (\"A acurácia foi %.2f%%\" % acuracia)\n"
   ]
  },
  {
   "cell_type": "code",
   "execution_count": 120,
   "id": "da5cfafb",
   "metadata": {},
   "outputs": [
    {
     "name": "stdout",
     "output_type": "stream",
     "text": [
      "Média da acurácia: 77.27 %\n",
      "Intervalo da acurácia: (74.35, 80.2)\n"
     ]
    }
   ],
   "source": [
    "\n",
    "SEED = 301\n",
    "np.random.seed(SEED)\n",
    "cv = GroupKFold(n_splits=10)\n",
    "\n",
    "modelo = SVC()\n",
    "results = cross_validate(modelo,x_azar,y_azar,cv = cv, groups=dados.modelo)\n",
    "\n",
    "imprime_resultados(results)"
   ]
  },
  {
   "cell_type": "code",
   "execution_count": 122,
   "id": "3eb6d705",
   "metadata": {},
   "outputs": [
    {
     "name": "stdout",
     "output_type": "stream",
     "text": [
      "Média da acurácia: 76.68 %\n",
      "Intervalo da acurácia: (74.28, 79.08)\n"
     ]
    },
    {
     "data": {
      "text/html": [
       "<style>#sk-container-id-2 {color: black;background-color: white;}#sk-container-id-2 pre{padding: 0;}#sk-container-id-2 div.sk-toggleable {background-color: white;}#sk-container-id-2 label.sk-toggleable__label {cursor: pointer;display: block;width: 100%;margin-bottom: 0;padding: 0.3em;box-sizing: border-box;text-align: center;}#sk-container-id-2 label.sk-toggleable__label-arrow:before {content: \"▸\";float: left;margin-right: 0.25em;color: #696969;}#sk-container-id-2 label.sk-toggleable__label-arrow:hover:before {color: black;}#sk-container-id-2 div.sk-estimator:hover label.sk-toggleable__label-arrow:before {color: black;}#sk-container-id-2 div.sk-toggleable__content {max-height: 0;max-width: 0;overflow: hidden;text-align: left;background-color: #f0f8ff;}#sk-container-id-2 div.sk-toggleable__content pre {margin: 0.2em;color: black;border-radius: 0.25em;background-color: #f0f8ff;}#sk-container-id-2 input.sk-toggleable__control:checked~div.sk-toggleable__content {max-height: 200px;max-width: 100%;overflow: auto;}#sk-container-id-2 input.sk-toggleable__control:checked~label.sk-toggleable__label-arrow:before {content: \"▾\";}#sk-container-id-2 div.sk-estimator input.sk-toggleable__control:checked~label.sk-toggleable__label {background-color: #d4ebff;}#sk-container-id-2 div.sk-label input.sk-toggleable__control:checked~label.sk-toggleable__label {background-color: #d4ebff;}#sk-container-id-2 input.sk-hidden--visually {border: 0;clip: rect(1px 1px 1px 1px);clip: rect(1px, 1px, 1px, 1px);height: 1px;margin: -1px;overflow: hidden;padding: 0;position: absolute;width: 1px;}#sk-container-id-2 div.sk-estimator {font-family: monospace;background-color: #f0f8ff;border: 1px dotted black;border-radius: 0.25em;box-sizing: border-box;margin-bottom: 0.5em;}#sk-container-id-2 div.sk-estimator:hover {background-color: #d4ebff;}#sk-container-id-2 div.sk-parallel-item::after {content: \"\";width: 100%;border-bottom: 1px solid gray;flex-grow: 1;}#sk-container-id-2 div.sk-label:hover label.sk-toggleable__label {background-color: #d4ebff;}#sk-container-id-2 div.sk-serial::before {content: \"\";position: absolute;border-left: 1px solid gray;box-sizing: border-box;top: 0;bottom: 0;left: 50%;z-index: 0;}#sk-container-id-2 div.sk-serial {display: flex;flex-direction: column;align-items: center;background-color: white;padding-right: 0.2em;padding-left: 0.2em;position: relative;}#sk-container-id-2 div.sk-item {position: relative;z-index: 1;}#sk-container-id-2 div.sk-parallel {display: flex;align-items: stretch;justify-content: center;background-color: white;position: relative;}#sk-container-id-2 div.sk-item::before, #sk-container-id-2 div.sk-parallel-item::before {content: \"\";position: absolute;border-left: 1px solid gray;box-sizing: border-box;top: 0;bottom: 0;left: 50%;z-index: -1;}#sk-container-id-2 div.sk-parallel-item {display: flex;flex-direction: column;z-index: 1;position: relative;background-color: white;}#sk-container-id-2 div.sk-parallel-item:first-child::after {align-self: flex-end;width: 50%;}#sk-container-id-2 div.sk-parallel-item:last-child::after {align-self: flex-start;width: 50%;}#sk-container-id-2 div.sk-parallel-item:only-child::after {width: 0;}#sk-container-id-2 div.sk-dashed-wrapped {border: 1px dashed gray;margin: 0 0.4em 0.5em 0.4em;box-sizing: border-box;padding-bottom: 0.4em;background-color: white;}#sk-container-id-2 div.sk-label label {font-family: monospace;font-weight: bold;display: inline-block;line-height: 1.2em;}#sk-container-id-2 div.sk-label-container {text-align: center;}#sk-container-id-2 div.sk-container {/* jupyter's `normalize.less` sets `[hidden] { display: none; }` but bootstrap.min.css set `[hidden] { display: none !important; }` so we also need the `!important` here to be able to override the default hidden behavior on the sphinx rendered scikit-learn.org. See: https://github.com/scikit-learn/scikit-learn/issues/21755 */display: inline-block !important;position: relative;}#sk-container-id-2 div.sk-text-repr-fallback {display: none;}</style><div id=\"sk-container-id-2\" class=\"sk-top-container\"><div class=\"sk-text-repr-fallback\"><pre>Pipeline(steps=[(&#x27;transformacao&#x27;, StandardScaler()), (&#x27;estimador&#x27;, SVC())])</pre><b>In a Jupyter environment, please rerun this cell to show the HTML representation or trust the notebook. <br />On GitHub, the HTML representation is unable to render, please try loading this page with nbviewer.org.</b></div><div class=\"sk-container\" hidden><div class=\"sk-item sk-dashed-wrapped\"><div class=\"sk-label-container\"><div class=\"sk-label sk-toggleable\"><input class=\"sk-toggleable__control sk-hidden--visually\" id=\"sk-estimator-id-4\" type=\"checkbox\" ><label for=\"sk-estimator-id-4\" class=\"sk-toggleable__label sk-toggleable__label-arrow\">Pipeline</label><div class=\"sk-toggleable__content\"><pre>Pipeline(steps=[(&#x27;transformacao&#x27;, StandardScaler()), (&#x27;estimador&#x27;, SVC())])</pre></div></div></div><div class=\"sk-serial\"><div class=\"sk-item\"><div class=\"sk-estimator sk-toggleable\"><input class=\"sk-toggleable__control sk-hidden--visually\" id=\"sk-estimator-id-5\" type=\"checkbox\" ><label for=\"sk-estimator-id-5\" class=\"sk-toggleable__label sk-toggleable__label-arrow\">StandardScaler</label><div class=\"sk-toggleable__content\"><pre>StandardScaler()</pre></div></div></div><div class=\"sk-item\"><div class=\"sk-estimator sk-toggleable\"><input class=\"sk-toggleable__control sk-hidden--visually\" id=\"sk-estimator-id-6\" type=\"checkbox\" ><label for=\"sk-estimator-id-6\" class=\"sk-toggleable__label sk-toggleable__label-arrow\">SVC</label><div class=\"sk-toggleable__content\"><pre>SVC()</pre></div></div></div></div></div></div></div>"
      ],
      "text/plain": [
       "Pipeline(steps=[('transformacao', StandardScaler()), ('estimador', SVC())])"
      ]
     },
     "execution_count": 122,
     "metadata": {},
     "output_type": "execute_result"
    }
   ],
   "source": [
    "from sklearn.pipeline import Pipeline\n",
    "\n",
    "\n",
    "SEED = 301\n",
    "np.random.seed(SEED)\n",
    "\n",
    "scaler = StandardScaler()\n",
    "modelo = SVC()\n",
    "\n",
    "pipeline = Pipeline([('transformacao', scaler),('estimador', modelo)])\n",
    "\n",
    "cv = GroupKFold(n_splits=10)\n",
    "modelo = SVC()\n",
    "results = cross_validate(pipeline,x_azar,y_azar,cv = cv, groups=dados.modelo)\n",
    "\n",
    "imprime_resultados(results)\n",
    "pipeline"
   ]
  },
  {
   "cell_type": "code",
   "execution_count": null,
   "id": "35d4d0e1",
   "metadata": {},
   "outputs": [],
   "source": []
  }
 ],
 "metadata": {
  "kernelspec": {
   "display_name": "Python 3 (ipykernel)",
   "language": "python",
   "name": "python3"
  },
  "language_info": {
   "codemirror_mode": {
    "name": "ipython",
    "version": 3
   },
   "file_extension": ".py",
   "mimetype": "text/x-python",
   "name": "python",
   "nbconvert_exporter": "python",
   "pygments_lexer": "ipython3",
   "version": "3.9.7"
  }
 },
 "nbformat": 4,
 "nbformat_minor": 5
}
