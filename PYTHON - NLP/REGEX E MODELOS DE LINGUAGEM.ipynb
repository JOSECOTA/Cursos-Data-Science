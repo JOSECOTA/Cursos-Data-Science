{
 "cells": [
  {
   "cell_type": "code",
   "execution_count": 1,
   "id": "ee2b06f2",
   "metadata": {},
   "outputs": [],
   "source": [
    "import pandas as pd"
   ]
  },
  {
   "cell_type": "code",
   "execution_count": 2,
   "id": "7453c64f",
   "metadata": {},
   "outputs": [],
   "source": [
    "import re"
   ]
  },
  {
   "cell_type": "markdown",
   "id": "cb61cb38",
   "metadata": {},
   "source": [
    "# Carregamento dos dados"
   ]
  },
  {
   "cell_type": "code",
   "execution_count": 3,
   "id": "dce911a3",
   "metadata": {},
   "outputs": [
    {
     "data": {
      "text/html": [
       "<div>\n",
       "<style scoped>\n",
       "    .dataframe tbody tr th:only-of-type {\n",
       "        vertical-align: middle;\n",
       "    }\n",
       "\n",
       "    .dataframe tbody tr th {\n",
       "        vertical-align: top;\n",
       "    }\n",
       "\n",
       "    .dataframe thead th {\n",
       "        text-align: right;\n",
       "    }\n",
       "</style>\n",
       "<table border=\"1\" class=\"dataframe\">\n",
       "  <thead>\n",
       "    <tr style=\"text-align: right;\">\n",
       "      <th></th>\n",
       "      <th>Id</th>\n",
       "      <th>Título</th>\n",
       "      <th>Questão</th>\n",
       "      <th>Tags</th>\n",
       "      <th>Pontuação</th>\n",
       "      <th>Visualizações</th>\n",
       "    </tr>\n",
       "  </thead>\n",
       "  <tbody>\n",
       "    <tr>\n",
       "      <th>0</th>\n",
       "      <td>2402</td>\n",
       "      <td>Como fazer hash de senhas de forma segura?</td>\n",
       "      <td>&lt;p&gt;Se eu fizer o &lt;em&gt;&lt;a href=\"http://pt.wikipe...</td>\n",
       "      <td>&lt;hash&gt;&lt;segurança&gt;&lt;senhas&gt;&lt;criptografia&gt;</td>\n",
       "      <td>350</td>\n",
       "      <td>22367</td>\n",
       "    </tr>\n",
       "    <tr>\n",
       "      <th>1</th>\n",
       "      <td>6441</td>\n",
       "      <td>Qual é a diferença entre INNER JOIN e OUTER JOIN?</td>\n",
       "      <td>&lt;p&gt;Qual é a diferença entre &lt;code&gt;INNER JOIN&lt;/...</td>\n",
       "      <td>&lt;sql&gt;&lt;join&gt;</td>\n",
       "      <td>276</td>\n",
       "      <td>176953</td>\n",
       "    </tr>\n",
       "    <tr>\n",
       "      <th>2</th>\n",
       "      <td>579</td>\n",
       "      <td>Por que não devemos usar funções do tipo mysql_*?</td>\n",
       "      <td>&lt;p&gt;Uma dúvida muito comum é por que devemos pa...</td>\n",
       "      <td>&lt;php&gt;&lt;mysql&gt;</td>\n",
       "      <td>226</td>\n",
       "      <td>9761</td>\n",
       "    </tr>\n",
       "    <tr>\n",
       "      <th>3</th>\n",
       "      <td>2539</td>\n",
       "      <td>As mensagens de erro devem se desculpar?</td>\n",
       "      <td>&lt;p&gt;É comum encontrar uma mensagem de erro que ...</td>\n",
       "      <td>&lt;aplicação-web&gt;&lt;gui&gt;&lt;console&gt;&lt;ux&gt;</td>\n",
       "      <td>214</td>\n",
       "      <td>5075</td>\n",
       "    </tr>\n",
       "    <tr>\n",
       "      <th>4</th>\n",
       "      <td>17501</td>\n",
       "      <td>Qual é a diferença de API, biblioteca e Framew...</td>\n",
       "      <td>&lt;p&gt;Me parecem termos muito próximos e eventual...</td>\n",
       "      <td>&lt;api&gt;&lt;framework&gt;&lt;terminologia&gt;&lt;biblioteca&gt;</td>\n",
       "      <td>193</td>\n",
       "      <td>54191</td>\n",
       "    </tr>\n",
       "  </tbody>\n",
       "</table>\n",
       "</div>"
      ],
      "text/plain": [
       "      Id                                             Título  \\\n",
       "0   2402         Como fazer hash de senhas de forma segura?   \n",
       "1   6441  Qual é a diferença entre INNER JOIN e OUTER JOIN?   \n",
       "2    579  Por que não devemos usar funções do tipo mysql_*?   \n",
       "3   2539           As mensagens de erro devem se desculpar?   \n",
       "4  17501  Qual é a diferença de API, biblioteca e Framew...   \n",
       "\n",
       "                                             Questão  \\\n",
       "0  <p>Se eu fizer o <em><a href=\"http://pt.wikipe...   \n",
       "1  <p>Qual é a diferença entre <code>INNER JOIN</...   \n",
       "2  <p>Uma dúvida muito comum é por que devemos pa...   \n",
       "3  <p>É comum encontrar uma mensagem de erro que ...   \n",
       "4  <p>Me parecem termos muito próximos e eventual...   \n",
       "\n",
       "                                         Tags  Pontuação  Visualizações  \n",
       "0     <hash><segurança><senhas><criptografia>        350          22367  \n",
       "1                                 <sql><join>        276         176953  \n",
       "2                                <php><mysql>        226           9761  \n",
       "3           <aplicação-web><gui><console><ux>        214           5075  \n",
       "4  <api><framework><terminologia><biblioteca>        193          54191  "
      ]
     },
     "execution_count": 3,
     "metadata": {},
     "output_type": "execute_result"
    }
   ],
   "source": [
    "portugues = pd.read_csv('stackoverflow_portugues.csv')\n",
    "portugues.head()"
   ]
  },
  {
   "cell_type": "code",
   "execution_count": 4,
   "id": "20bf1dea",
   "metadata": {},
   "outputs": [
    {
     "name": "stdout",
     "output_type": "stream",
     "text": [
      "<class 'pandas.core.frame.DataFrame'>\n",
      "RangeIndex: 500 entries, 0 to 499\n",
      "Data columns (total 6 columns):\n",
      " #   Column         Non-Null Count  Dtype \n",
      "---  ------         --------------  ----- \n",
      " 0   Id             500 non-null    int64 \n",
      " 1   Título         500 non-null    object\n",
      " 2   Questão        500 non-null    object\n",
      " 3   Tags           500 non-null    object\n",
      " 4   Pontuação      500 non-null    int64 \n",
      " 5   Visualizações  500 non-null    int64 \n",
      "dtypes: int64(3), object(3)\n",
      "memory usage: 23.6+ KB\n"
     ]
    }
   ],
   "source": [
    "portugues.info()"
   ]
  },
  {
   "cell_type": "code",
   "execution_count": 5,
   "id": "c476a9a0",
   "metadata": {},
   "outputs": [
    {
     "data": {
      "text/html": [
       "<div>\n",
       "<style scoped>\n",
       "    .dataframe tbody tr th:only-of-type {\n",
       "        vertical-align: middle;\n",
       "    }\n",
       "\n",
       "    .dataframe tbody tr th {\n",
       "        vertical-align: top;\n",
       "    }\n",
       "\n",
       "    .dataframe thead th {\n",
       "        text-align: right;\n",
       "    }\n",
       "</style>\n",
       "<table border=\"1\" class=\"dataframe\">\n",
       "  <thead>\n",
       "    <tr style=\"text-align: right;\">\n",
       "      <th></th>\n",
       "      <th>Id</th>\n",
       "      <th>Título</th>\n",
       "      <th>Questão</th>\n",
       "      <th>Tags</th>\n",
       "      <th>Pontuação</th>\n",
       "      <th>Visualizações</th>\n",
       "    </tr>\n",
       "  </thead>\n",
       "  <tbody>\n",
       "    <tr>\n",
       "      <th>0</th>\n",
       "      <td>11227809</td>\n",
       "      <td>Why is it faster to process a sorted array tha...</td>\n",
       "      <td>&lt;p&gt;Here is a piece of C++ code that seems very...</td>\n",
       "      <td>&lt;java&gt;&lt;c++&gt;&lt;performance&gt;&lt;optimization&gt;&lt;branch-...</td>\n",
       "      <td>23057</td>\n",
       "      <td>1358574</td>\n",
       "    </tr>\n",
       "    <tr>\n",
       "      <th>1</th>\n",
       "      <td>927358</td>\n",
       "      <td>How do I undo the most recent local commits in...</td>\n",
       "      <td>&lt;p&gt;I accidentally committed the wrong files to...</td>\n",
       "      <td>&lt;git&gt;&lt;version-control&gt;&lt;git-commit&gt;&lt;undo&gt;</td>\n",
       "      <td>19640</td>\n",
       "      <td>7906137</td>\n",
       "    </tr>\n",
       "    <tr>\n",
       "      <th>2</th>\n",
       "      <td>2003505</td>\n",
       "      <td>How do I delete a Git branch locally and remot...</td>\n",
       "      <td>&lt;p&gt;I want to delete a branch both locally and ...</td>\n",
       "      <td>&lt;git&gt;&lt;git-branch&gt;&lt;git-remote&gt;</td>\n",
       "      <td>15249</td>\n",
       "      <td>6940906</td>\n",
       "    </tr>\n",
       "    <tr>\n",
       "      <th>3</th>\n",
       "      <td>292357</td>\n",
       "      <td>What is the difference between 'git pull' and ...</td>\n",
       "      <td>&lt;blockquote&gt;\\n  &lt;p&gt;&lt;strong&gt;Moderator Note:&lt;/st...</td>\n",
       "      <td>&lt;git&gt;&lt;git-pull&gt;&lt;git-fetch&gt;</td>\n",
       "      <td>11008</td>\n",
       "      <td>2543052</td>\n",
       "    </tr>\n",
       "    <tr>\n",
       "      <th>4</th>\n",
       "      <td>477816</td>\n",
       "      <td>What is the correct JSON content type?</td>\n",
       "      <td>&lt;p&gt;I've been messing around with &lt;a href=\"http...</td>\n",
       "      <td>&lt;json&gt;&lt;http-headers&gt;&lt;content-type&gt;</td>\n",
       "      <td>9701</td>\n",
       "      <td>2478940</td>\n",
       "    </tr>\n",
       "  </tbody>\n",
       "</table>\n",
       "</div>"
      ],
      "text/plain": [
       "         Id                                             Título  \\\n",
       "0  11227809  Why is it faster to process a sorted array tha...   \n",
       "1    927358  How do I undo the most recent local commits in...   \n",
       "2   2003505  How do I delete a Git branch locally and remot...   \n",
       "3    292357  What is the difference between 'git pull' and ...   \n",
       "4    477816             What is the correct JSON content type?   \n",
       "\n",
       "                                             Questão  \\\n",
       "0  <p>Here is a piece of C++ code that seems very...   \n",
       "1  <p>I accidentally committed the wrong files to...   \n",
       "2  <p>I want to delete a branch both locally and ...   \n",
       "3  <blockquote>\\n  <p><strong>Moderator Note:</st...   \n",
       "4  <p>I've been messing around with <a href=\"http...   \n",
       "\n",
       "                                                Tags  Pontuação  Visualizações  \n",
       "0  <java><c++><performance><optimization><branch-...      23057        1358574  \n",
       "1           <git><version-control><git-commit><undo>      19640        7906137  \n",
       "2                      <git><git-branch><git-remote>      15249        6940906  \n",
       "3                         <git><git-pull><git-fetch>      11008        2543052  \n",
       "4                 <json><http-headers><content-type>       9701        2478940  "
      ]
     },
     "execution_count": 5,
     "metadata": {},
     "output_type": "execute_result"
    }
   ],
   "source": [
    "ingles = pd.read_csv('stackoverflow_ingles.csv')\n",
    "ingles.head()"
   ]
  },
  {
   "cell_type": "code",
   "execution_count": 6,
   "id": "70865008",
   "metadata": {},
   "outputs": [
    {
     "name": "stdout",
     "output_type": "stream",
     "text": [
      "<class 'pandas.core.frame.DataFrame'>\n",
      "RangeIndex: 500 entries, 0 to 499\n",
      "Data columns (total 6 columns):\n",
      " #   Column         Non-Null Count  Dtype \n",
      "---  ------         --------------  ----- \n",
      " 0   Id             500 non-null    int64 \n",
      " 1   Título         500 non-null    object\n",
      " 2   Questão        500 non-null    object\n",
      " 3   Tags           500 non-null    object\n",
      " 4   Pontuação      500 non-null    int64 \n",
      " 5   Visualizações  500 non-null    int64 \n",
      "dtypes: int64(3), object(3)\n",
      "memory usage: 23.6+ KB\n"
     ]
    }
   ],
   "source": [
    "ingles.info()"
   ]
  },
  {
   "cell_type": "markdown",
   "id": "b22eb7b7",
   "metadata": {},
   "source": [
    "## Explorando REGEX"
   ]
  },
  {
   "cell_type": "code",
   "execution_count": 7,
   "id": "e058dee4",
   "metadata": {},
   "outputs": [
    {
     "data": {
      "text/plain": [
       "'<p>Se eu fizer o <em><a href=\"http://pt.wikipedia.org/wiki/Fun%C3%A7%C3%A3o_de_embaralhamento_criptogr%C3%A1fico\" rel=\"noreferrer\">hash</a></em> de senhas antes de armazená-las em meu banco de dados é suficiente para evitar que elas sejam recuperadas por alguém?</p>\\n\\n<p>Estou falando apenas da recuperação diretamente do banco de dados e não qualquer outro tipo de ataque, como <a href=\"http://pt.wikipedia.org/wiki/Ataque_de_for%C3%A7a_bruta\" rel=\"noreferrer\">força bruta</a> na página de login da aplicação, <em><a href=\"http://pt.wikipedia.org/wiki/Keylogger\" rel=\"noreferrer\">keylogger</a></em> no cliente e <a href=\"http://pt.wikipedia.org/wiki/Criptoan%C3%A1lise_de_mangueira_de_borracha\" rel=\"noreferrer\">criptoanálise <em>rubberhose</em></a>. Qualquer forma de <em>hash</em> não vai impedir esses ataques.</p>\\n\\n<p>Tenho preocupação em dificultar ou até impossibilitar a obtenção das senhas originais caso o banco de dados seja comprometido. Como dar maior garantia de segurança neste aspecto?</p>\\n\\n<p>Quais preocupações adicionais evitariam o acesso às senhas? Existem formas melhores de fazer esse <em>hash</em>?</p>\\n'"
      ]
     },
     "execution_count": 7,
     "metadata": {},
     "output_type": "execute_result"
    }
   ],
   "source": [
    "questao_pt = portugues['Questão'][0]\n",
    "questao_pt"
   ]
  },
  {
   "cell_type": "code",
   "execution_count": 8,
   "id": "c0056caa",
   "metadata": {},
   "outputs": [
    {
     "data": {
      "text/plain": [
       "['<p>',\n",
       " '<em>',\n",
       " '<a href=\"http://pt.wikipedia.org/wiki/Fun%C3%A7%C3%A3o_de_embaralhamento_criptogr%C3%A1fico\" rel=\"noreferrer\">',\n",
       " '</a>',\n",
       " '</em>',\n",
       " '</p>',\n",
       " '<p>',\n",
       " '<a href=\"http://pt.wikipedia.org/wiki/Ataque_de_for%C3%A7a_bruta\" rel=\"noreferrer\">',\n",
       " '</a>',\n",
       " '<em>',\n",
       " '<a href=\"http://pt.wikipedia.org/wiki/Keylogger\" rel=\"noreferrer\">',\n",
       " '</a>',\n",
       " '</em>',\n",
       " '<a href=\"http://pt.wikipedia.org/wiki/Criptoan%C3%A1lise_de_mangueira_de_borracha\" rel=\"noreferrer\">',\n",
       " '<em>',\n",
       " '</em>',\n",
       " '</a>',\n",
       " '<em>',\n",
       " '</em>',\n",
       " '</p>',\n",
       " '<p>',\n",
       " '</p>',\n",
       " '<p>',\n",
       " '<em>',\n",
       " '</em>',\n",
       " '</p>']"
      ]
     },
     "execution_count": 8,
     "metadata": {},
     "output_type": "execute_result"
    }
   ],
   "source": [
    "re.findall(r'<.*?>', questao_pt)"
   ]
  },
  {
   "cell_type": "code",
   "execution_count": 9,
   "id": "0879c19c",
   "metadata": {},
   "outputs": [
    {
     "name": "stdout",
     "output_type": "stream",
     "text": [
      "Se eu fizer o hash de senhas antes de armazená-las em meu banco de dados é suficiente para evitar que elas sejam recuperadas por alguém?\n",
      "\n",
      "Estou falando apenas da recuperação diretamente do banco de dados e não qualquer outro tipo de ataque, como força bruta na página de login da aplicação, keylogger no cliente e criptoanálise rubberhose. Qualquer forma de hash não vai impedir esses ataques.\n",
      "\n",
      "Tenho preocupação em dificultar ou até impossibilitar a obtenção das senhas originais caso o banco de dados seja comprometido. Como dar maior garantia de segurança neste aspecto?\n",
      "\n",
      "Quais preocupações adicionais evitariam o acesso às senhas? Existem formas melhores de fazer esse hash?\n",
      "\n"
     ]
    }
   ],
   "source": [
    "texto = re.sub(r'<.*?>','',questao_pt)\n",
    "print(texto)"
   ]
  },
  {
   "cell_type": "code",
   "execution_count": 10,
   "id": "99e0928a",
   "metadata": {},
   "outputs": [],
   "source": [
    "def remover(textos, regex):\n",
    "    if type(textos) == str:\n",
    "        return regex.sub('',textos)\n",
    "    else:\n",
    "        return [regex.sub('',texto) for texto in textos]"
   ]
  },
  {
   "cell_type": "code",
   "execution_count": 11,
   "id": "a55a2d93",
   "metadata": {},
   "outputs": [
    {
     "name": "stdout",
     "output_type": "stream",
     "text": [
      "Se eu fizer o hash de senhas antes de armazená-las em meu banco de dados é suficiente para evitar que elas sejam recuperadas por alguém?\n",
      "\n",
      "Estou falando apenas da recuperação diretamente do banco de dados e não qualquer outro tipo de ataque, como força bruta na página de login da aplicação, keylogger no cliente e criptoanálise rubberhose. Qualquer forma de hash não vai impedir esses ataques.\n",
      "\n",
      "Tenho preocupação em dificultar ou até impossibilitar a obtenção das senhas originais caso o banco de dados seja comprometido. Como dar maior garantia de segurança neste aspecto?\n",
      "\n",
      "Quais preocupações adicionais evitariam o acesso às senhas? Existem formas melhores de fazer esse hash?\n",
      "\n"
     ]
    }
   ],
   "source": [
    "regex_html = re.compile(r'<.*?>')\n",
    "\n",
    "questao_sem_tag = remover(questao_pt, regex_html)\n",
    "\n",
    "print(questao_sem_tag)"
   ]
  },
  {
   "cell_type": "code",
   "execution_count": 12,
   "id": "ce63331b",
   "metadata": {},
   "outputs": [],
   "source": [
    "def substituir_codigo(textos, regex):\n",
    "    if type(textos) == str:\n",
    "        return regex.sub('CODE',textos)\n",
    "    else:\n",
    "        return [regex.sub('CODE',texto) for texto in textos]"
   ]
  },
  {
   "cell_type": "code",
   "execution_count": 13,
   "id": "434b86c7",
   "metadata": {},
   "outputs": [],
   "source": [
    "regex_code = re.compile(r'<code>(.|(\\n))*?</code>')"
   ]
  },
  {
   "cell_type": "code",
   "execution_count": 14,
   "id": "5e054b8a",
   "metadata": {},
   "outputs": [
    {
     "data": {
      "text/plain": [
       "'<p>Qual é a diferença entre <code>INNER JOIN</code> e <code>OUTER JOIN</code>? Podem me dar alguns exemplos?</p>\\n'"
      ]
     },
     "execution_count": 14,
     "metadata": {},
     "output_type": "execute_result"
    }
   ],
   "source": [
    "questao_pt2 = portugues['Questão'][1]\n",
    "questao_pt2"
   ]
  },
  {
   "cell_type": "code",
   "execution_count": 15,
   "id": "463537d7",
   "metadata": {},
   "outputs": [
    {
     "data": {
      "text/plain": [
       "'<p>Qual é a diferença entre CODE e CODE? Podem me dar alguns exemplos?</p>\\n'"
      ]
     },
     "execution_count": 15,
     "metadata": {},
     "output_type": "execute_result"
    }
   ],
   "source": [
    "questao_sem_code = substituir_codigo(questao_pt2, regex_code)\n",
    "questao_sem_code"
   ]
  },
  {
   "cell_type": "code",
   "execution_count": 16,
   "id": "5bdade7e",
   "metadata": {},
   "outputs": [
    {
     "data": {
      "text/plain": [
       "'Qual é a diferença entre CODE e CODE? Podem me dar alguns exemplos?\\n'"
      ]
     },
     "execution_count": 16,
     "metadata": {},
     "output_type": "execute_result"
    }
   ],
   "source": [
    "questao_sem_nada = remover(questao_sem_code, regex_html)\n",
    "questao_sem_nada"
   ]
  },
  {
   "cell_type": "markdown",
   "id": "b699ff93",
   "metadata": {},
   "source": [
    "## Aplicando na base de dados"
   ]
  },
  {
   "cell_type": "markdown",
   "id": "3a05af9e",
   "metadata": {},
   "source": [
    "#### PT"
   ]
  },
  {
   "cell_type": "code",
   "execution_count": 17,
   "id": "7191d0e6",
   "metadata": {},
   "outputs": [],
   "source": [
    "questoes_sem_code = substituir_codigo(portugues['Questão'], regex_code)\n",
    "questoes_sem_code_tag = remover(questoes_sem_code, regex_html)"
   ]
  },
  {
   "cell_type": "code",
   "execution_count": 18,
   "id": "5a1ad80c",
   "metadata": {},
   "outputs": [],
   "source": [
    "portugues['questao_tratada'] = questoes_sem_code_tag"
   ]
  },
  {
   "cell_type": "code",
   "execution_count": 19,
   "id": "95f79ec3",
   "metadata": {},
   "outputs": [
    {
     "data": {
      "text/html": [
       "<div>\n",
       "<style scoped>\n",
       "    .dataframe tbody tr th:only-of-type {\n",
       "        vertical-align: middle;\n",
       "    }\n",
       "\n",
       "    .dataframe tbody tr th {\n",
       "        vertical-align: top;\n",
       "    }\n",
       "\n",
       "    .dataframe thead th {\n",
       "        text-align: right;\n",
       "    }\n",
       "</style>\n",
       "<table border=\"1\" class=\"dataframe\">\n",
       "  <thead>\n",
       "    <tr style=\"text-align: right;\">\n",
       "      <th></th>\n",
       "      <th>Id</th>\n",
       "      <th>Título</th>\n",
       "      <th>Questão</th>\n",
       "      <th>Tags</th>\n",
       "      <th>Pontuação</th>\n",
       "      <th>Visualizações</th>\n",
       "      <th>questao_tratada</th>\n",
       "    </tr>\n",
       "  </thead>\n",
       "  <tbody>\n",
       "    <tr>\n",
       "      <th>0</th>\n",
       "      <td>2402</td>\n",
       "      <td>Como fazer hash de senhas de forma segura?</td>\n",
       "      <td>&lt;p&gt;Se eu fizer o &lt;em&gt;&lt;a href=\"http://pt.wikipe...</td>\n",
       "      <td>&lt;hash&gt;&lt;segurança&gt;&lt;senhas&gt;&lt;criptografia&gt;</td>\n",
       "      <td>350</td>\n",
       "      <td>22367</td>\n",
       "      <td>Se eu fizer o hash de senhas antes de armazená...</td>\n",
       "    </tr>\n",
       "    <tr>\n",
       "      <th>1</th>\n",
       "      <td>6441</td>\n",
       "      <td>Qual é a diferença entre INNER JOIN e OUTER JOIN?</td>\n",
       "      <td>&lt;p&gt;Qual é a diferença entre &lt;code&gt;INNER JOIN&lt;/...</td>\n",
       "      <td>&lt;sql&gt;&lt;join&gt;</td>\n",
       "      <td>276</td>\n",
       "      <td>176953</td>\n",
       "      <td>Qual é a diferença entre CODE e CODE? Podem me...</td>\n",
       "    </tr>\n",
       "    <tr>\n",
       "      <th>2</th>\n",
       "      <td>579</td>\n",
       "      <td>Por que não devemos usar funções do tipo mysql_*?</td>\n",
       "      <td>&lt;p&gt;Uma dúvida muito comum é por que devemos pa...</td>\n",
       "      <td>&lt;php&gt;&lt;mysql&gt;</td>\n",
       "      <td>226</td>\n",
       "      <td>9761</td>\n",
       "      <td>Uma dúvida muito comum é por que devemos parar...</td>\n",
       "    </tr>\n",
       "    <tr>\n",
       "      <th>3</th>\n",
       "      <td>2539</td>\n",
       "      <td>As mensagens de erro devem se desculpar?</td>\n",
       "      <td>&lt;p&gt;É comum encontrar uma mensagem de erro que ...</td>\n",
       "      <td>&lt;aplicação-web&gt;&lt;gui&gt;&lt;console&gt;&lt;ux&gt;</td>\n",
       "      <td>214</td>\n",
       "      <td>5075</td>\n",
       "      <td>É comum encontrar uma mensagem de erro que diz...</td>\n",
       "    </tr>\n",
       "    <tr>\n",
       "      <th>4</th>\n",
       "      <td>17501</td>\n",
       "      <td>Qual é a diferença de API, biblioteca e Framew...</td>\n",
       "      <td>&lt;p&gt;Me parecem termos muito próximos e eventual...</td>\n",
       "      <td>&lt;api&gt;&lt;framework&gt;&lt;terminologia&gt;&lt;biblioteca&gt;</td>\n",
       "      <td>193</td>\n",
       "      <td>54191</td>\n",
       "      <td>Me parecem termos muito próximos e eventualmen...</td>\n",
       "    </tr>\n",
       "  </tbody>\n",
       "</table>\n",
       "</div>"
      ],
      "text/plain": [
       "      Id                                             Título  \\\n",
       "0   2402         Como fazer hash de senhas de forma segura?   \n",
       "1   6441  Qual é a diferença entre INNER JOIN e OUTER JOIN?   \n",
       "2    579  Por que não devemos usar funções do tipo mysql_*?   \n",
       "3   2539           As mensagens de erro devem se desculpar?   \n",
       "4  17501  Qual é a diferença de API, biblioteca e Framew...   \n",
       "\n",
       "                                             Questão  \\\n",
       "0  <p>Se eu fizer o <em><a href=\"http://pt.wikipe...   \n",
       "1  <p>Qual é a diferença entre <code>INNER JOIN</...   \n",
       "2  <p>Uma dúvida muito comum é por que devemos pa...   \n",
       "3  <p>É comum encontrar uma mensagem de erro que ...   \n",
       "4  <p>Me parecem termos muito próximos e eventual...   \n",
       "\n",
       "                                         Tags  Pontuação  Visualizações  \\\n",
       "0     <hash><segurança><senhas><criptografia>        350          22367   \n",
       "1                                 <sql><join>        276         176953   \n",
       "2                                <php><mysql>        226           9761   \n",
       "3           <aplicação-web><gui><console><ux>        214           5075   \n",
       "4  <api><framework><terminologia><biblioteca>        193          54191   \n",
       "\n",
       "                                     questao_tratada  \n",
       "0  Se eu fizer o hash de senhas antes de armazená...  \n",
       "1  Qual é a diferença entre CODE e CODE? Podem me...  \n",
       "2  Uma dúvida muito comum é por que devemos parar...  \n",
       "3  É comum encontrar uma mensagem de erro que diz...  \n",
       "4  Me parecem termos muito próximos e eventualmen...  "
      ]
     },
     "execution_count": 19,
     "metadata": {},
     "output_type": "execute_result"
    }
   ],
   "source": [
    "portugues.head()"
   ]
  },
  {
   "cell_type": "markdown",
   "id": "ddb5c4f2",
   "metadata": {},
   "source": [
    "#### EN"
   ]
  },
  {
   "cell_type": "code",
   "execution_count": 20,
   "id": "e3afc1f9",
   "metadata": {},
   "outputs": [
    {
     "data": {
      "text/html": [
       "<div>\n",
       "<style scoped>\n",
       "    .dataframe tbody tr th:only-of-type {\n",
       "        vertical-align: middle;\n",
       "    }\n",
       "\n",
       "    .dataframe tbody tr th {\n",
       "        vertical-align: top;\n",
       "    }\n",
       "\n",
       "    .dataframe thead th {\n",
       "        text-align: right;\n",
       "    }\n",
       "</style>\n",
       "<table border=\"1\" class=\"dataframe\">\n",
       "  <thead>\n",
       "    <tr style=\"text-align: right;\">\n",
       "      <th></th>\n",
       "      <th>Id</th>\n",
       "      <th>Título</th>\n",
       "      <th>Questão</th>\n",
       "      <th>Tags</th>\n",
       "      <th>Pontuação</th>\n",
       "      <th>Visualizações</th>\n",
       "      <th>questao_tratada</th>\n",
       "    </tr>\n",
       "  </thead>\n",
       "  <tbody>\n",
       "    <tr>\n",
       "      <th>0</th>\n",
       "      <td>11227809</td>\n",
       "      <td>Why is it faster to process a sorted array tha...</td>\n",
       "      <td>&lt;p&gt;Here is a piece of C++ code that seems very...</td>\n",
       "      <td>&lt;java&gt;&lt;c++&gt;&lt;performance&gt;&lt;optimization&gt;&lt;branch-...</td>\n",
       "      <td>23057</td>\n",
       "      <td>1358574</td>\n",
       "      <td>Here is a piece of C++ code that seems very pe...</td>\n",
       "    </tr>\n",
       "    <tr>\n",
       "      <th>1</th>\n",
       "      <td>927358</td>\n",
       "      <td>How do I undo the most recent local commits in...</td>\n",
       "      <td>&lt;p&gt;I accidentally committed the wrong files to...</td>\n",
       "      <td>&lt;git&gt;&lt;version-control&gt;&lt;git-commit&gt;&lt;undo&gt;</td>\n",
       "      <td>19640</td>\n",
       "      <td>7906137</td>\n",
       "      <td>I accidentally committed the wrong files to Gi...</td>\n",
       "    </tr>\n",
       "    <tr>\n",
       "      <th>2</th>\n",
       "      <td>2003505</td>\n",
       "      <td>How do I delete a Git branch locally and remot...</td>\n",
       "      <td>&lt;p&gt;I want to delete a branch both locally and ...</td>\n",
       "      <td>&lt;git&gt;&lt;git-branch&gt;&lt;git-remote&gt;</td>\n",
       "      <td>15249</td>\n",
       "      <td>6940906</td>\n",
       "      <td>I want to delete a branch both locally and rem...</td>\n",
       "    </tr>\n",
       "    <tr>\n",
       "      <th>3</th>\n",
       "      <td>292357</td>\n",
       "      <td>What is the difference between 'git pull' and ...</td>\n",
       "      <td>&lt;blockquote&gt;\\n  &lt;p&gt;&lt;strong&gt;Moderator Note:&lt;/st...</td>\n",
       "      <td>&lt;git&gt;&lt;git-pull&gt;&lt;git-fetch&gt;</td>\n",
       "      <td>11008</td>\n",
       "      <td>2543052</td>\n",
       "      <td>\\n  Moderator Note: Given that this question h...</td>\n",
       "    </tr>\n",
       "    <tr>\n",
       "      <th>4</th>\n",
       "      <td>477816</td>\n",
       "      <td>What is the correct JSON content type?</td>\n",
       "      <td>&lt;p&gt;I've been messing around with &lt;a href=\"http...</td>\n",
       "      <td>&lt;json&gt;&lt;http-headers&gt;&lt;content-type&gt;</td>\n",
       "      <td>9701</td>\n",
       "      <td>2478940</td>\n",
       "      <td>I've been messing around with JSON for some ti...</td>\n",
       "    </tr>\n",
       "  </tbody>\n",
       "</table>\n",
       "</div>"
      ],
      "text/plain": [
       "         Id                                             Título  \\\n",
       "0  11227809  Why is it faster to process a sorted array tha...   \n",
       "1    927358  How do I undo the most recent local commits in...   \n",
       "2   2003505  How do I delete a Git branch locally and remot...   \n",
       "3    292357  What is the difference between 'git pull' and ...   \n",
       "4    477816             What is the correct JSON content type?   \n",
       "\n",
       "                                             Questão  \\\n",
       "0  <p>Here is a piece of C++ code that seems very...   \n",
       "1  <p>I accidentally committed the wrong files to...   \n",
       "2  <p>I want to delete a branch both locally and ...   \n",
       "3  <blockquote>\\n  <p><strong>Moderator Note:</st...   \n",
       "4  <p>I've been messing around with <a href=\"http...   \n",
       "\n",
       "                                                Tags  Pontuação  \\\n",
       "0  <java><c++><performance><optimization><branch-...      23057   \n",
       "1           <git><version-control><git-commit><undo>      19640   \n",
       "2                      <git><git-branch><git-remote>      15249   \n",
       "3                         <git><git-pull><git-fetch>      11008   \n",
       "4                 <json><http-headers><content-type>       9701   \n",
       "\n",
       "   Visualizações                                    questao_tratada  \n",
       "0        1358574  Here is a piece of C++ code that seems very pe...  \n",
       "1        7906137  I accidentally committed the wrong files to Gi...  \n",
       "2        6940906  I want to delete a branch both locally and rem...  \n",
       "3        2543052  \\n  Moderator Note: Given that this question h...  \n",
       "4        2478940  I've been messing around with JSON for some ti...  "
      ]
     },
     "execution_count": 20,
     "metadata": {},
     "output_type": "execute_result"
    }
   ],
   "source": [
    "questoes_sem_code_en = substituir_codigo(ingles['Questão'], regex_code)\n",
    "questoes_sem_code_tag_en = remover(questoes_sem_code_en, regex_html)\n",
    "ingles['questao_tratada'] = questoes_sem_code_tag_en\n",
    "ingles.head()\n"
   ]
  },
  {
   "cell_type": "markdown",
   "id": "d8f75e3b",
   "metadata": {},
   "source": [
    "### Retirando pontuações e dígitos"
   ]
  },
  {
   "cell_type": "code",
   "execution_count": 21,
   "id": "d3d5f26d",
   "metadata": {},
   "outputs": [],
   "source": [
    "regex_pontuacao = re.compile(r'[^\\w\\s]')"
   ]
  },
  {
   "cell_type": "code",
   "execution_count": 22,
   "id": "0dfe124f",
   "metadata": {},
   "outputs": [],
   "source": [
    "regex_digitos = re.compile(r'\\d+')"
   ]
  },
  {
   "cell_type": "code",
   "execution_count": 23,
   "id": "4b9ab3ab",
   "metadata": {},
   "outputs": [],
   "source": [
    "regex_espaco = re.compile(r' +')\n",
    "regex_quebra_linha = re.compile(r'(\\n)')\n",
    "def substituir_espaco(textos, regex):\n",
    "    if type(textos) == str:\n",
    "        return regex.sub(' ',textos)\n",
    "    else:\n",
    "        return [regex.sub(' ',texto) for texto in textos]"
   ]
  },
  {
   "cell_type": "code",
   "execution_count": 24,
   "id": "ad31009d",
   "metadata": {},
   "outputs": [],
   "source": [
    "def minusculo(textos):\n",
    "    if type(textos) == str:\n",
    "        return textos.lower()\n",
    "    else:\n",
    "        return [texto.lower() for texto in textos]"
   ]
  },
  {
   "cell_type": "markdown",
   "id": "72d43027",
   "metadata": {},
   "source": [
    "### Aplicando nas bases de dados"
   ]
  },
  {
   "cell_type": "markdown",
   "id": "60ca2fda",
   "metadata": {},
   "source": [
    "#### PT"
   ]
  },
  {
   "cell_type": "code",
   "execution_count": 25,
   "id": "ed09b669",
   "metadata": {},
   "outputs": [],
   "source": [
    "questoes_sem_pont = remover(portugues['questao_tratada'], regex_pontuacao)\n",
    "\n",
    "questoes_sem_pont_min = minusculo(questoes_sem_pont)\n",
    "\n",
    "questoes_sem_pont_min_digitos = remover(questoes_sem_pont_min, regex_digitos)\n",
    "\n",
    "questoes_sem_nada = substituir_espaco(questoes_sem_pont_min_digitos, regex_espaco)\n",
    "\n",
    "questoes_sem_nada2 = substituir_espaco(questoes_sem_nada, regex_quebra_linha)"
   ]
  },
  {
   "cell_type": "code",
   "execution_count": 26,
   "id": "5764c8ec",
   "metadata": {},
   "outputs": [
    {
     "data": {
      "text/plain": [
       "'se eu fizer o hash de senhas antes de armazenálas em meu banco de dados é suficiente para evitar que elas sejam recuperadas por alguém  estou falando apenas da recuperação diretamente do banco de dados e não qualquer outro tipo de ataque como força bruta na página de login da aplicação keylogger no cliente e criptoanálise rubberhose qualquer forma de hash não vai impedir esses ataques  tenho preocupação em dificultar ou até impossibilitar a obtenção das senhas originais caso o banco de dados seja comprometido como dar maior garantia de segurança neste aspecto  quais preocupações adicionais evitariam o acesso às senhas existem formas melhores de fazer esse hash '"
      ]
     },
     "execution_count": 26,
     "metadata": {},
     "output_type": "execute_result"
    }
   ],
   "source": [
    "questoes_sem_nada2[0]"
   ]
  },
  {
   "cell_type": "code",
   "execution_count": 27,
   "id": "2bea0fad",
   "metadata": {},
   "outputs": [],
   "source": [
    "portugues['questao_tratada2'] = questoes_sem_nada2"
   ]
  },
  {
   "cell_type": "code",
   "execution_count": 28,
   "id": "a8f8a1eb",
   "metadata": {},
   "outputs": [
    {
     "data": {
      "text/html": [
       "<div>\n",
       "<style scoped>\n",
       "    .dataframe tbody tr th:only-of-type {\n",
       "        vertical-align: middle;\n",
       "    }\n",
       "\n",
       "    .dataframe tbody tr th {\n",
       "        vertical-align: top;\n",
       "    }\n",
       "\n",
       "    .dataframe thead th {\n",
       "        text-align: right;\n",
       "    }\n",
       "</style>\n",
       "<table border=\"1\" class=\"dataframe\">\n",
       "  <thead>\n",
       "    <tr style=\"text-align: right;\">\n",
       "      <th></th>\n",
       "      <th>Id</th>\n",
       "      <th>Título</th>\n",
       "      <th>Questão</th>\n",
       "      <th>Tags</th>\n",
       "      <th>Pontuação</th>\n",
       "      <th>Visualizações</th>\n",
       "      <th>questao_tratada</th>\n",
       "      <th>questao_tratada2</th>\n",
       "    </tr>\n",
       "  </thead>\n",
       "  <tbody>\n",
       "    <tr>\n",
       "      <th>0</th>\n",
       "      <td>2402</td>\n",
       "      <td>Como fazer hash de senhas de forma segura?</td>\n",
       "      <td>&lt;p&gt;Se eu fizer o &lt;em&gt;&lt;a href=\"http://pt.wikipe...</td>\n",
       "      <td>&lt;hash&gt;&lt;segurança&gt;&lt;senhas&gt;&lt;criptografia&gt;</td>\n",
       "      <td>350</td>\n",
       "      <td>22367</td>\n",
       "      <td>Se eu fizer o hash de senhas antes de armazená...</td>\n",
       "      <td>se eu fizer o hash de senhas antes de armazená...</td>\n",
       "    </tr>\n",
       "    <tr>\n",
       "      <th>1</th>\n",
       "      <td>6441</td>\n",
       "      <td>Qual é a diferença entre INNER JOIN e OUTER JOIN?</td>\n",
       "      <td>&lt;p&gt;Qual é a diferença entre &lt;code&gt;INNER JOIN&lt;/...</td>\n",
       "      <td>&lt;sql&gt;&lt;join&gt;</td>\n",
       "      <td>276</td>\n",
       "      <td>176953</td>\n",
       "      <td>Qual é a diferença entre CODE e CODE? Podem me...</td>\n",
       "      <td>qual é a diferença entre code e code podem me ...</td>\n",
       "    </tr>\n",
       "    <tr>\n",
       "      <th>2</th>\n",
       "      <td>579</td>\n",
       "      <td>Por que não devemos usar funções do tipo mysql_*?</td>\n",
       "      <td>&lt;p&gt;Uma dúvida muito comum é por que devemos pa...</td>\n",
       "      <td>&lt;php&gt;&lt;mysql&gt;</td>\n",
       "      <td>226</td>\n",
       "      <td>9761</td>\n",
       "      <td>Uma dúvida muito comum é por que devemos parar...</td>\n",
       "      <td>uma dúvida muito comum é por que devemos parar...</td>\n",
       "    </tr>\n",
       "    <tr>\n",
       "      <th>3</th>\n",
       "      <td>2539</td>\n",
       "      <td>As mensagens de erro devem se desculpar?</td>\n",
       "      <td>&lt;p&gt;É comum encontrar uma mensagem de erro que ...</td>\n",
       "      <td>&lt;aplicação-web&gt;&lt;gui&gt;&lt;console&gt;&lt;ux&gt;</td>\n",
       "      <td>214</td>\n",
       "      <td>5075</td>\n",
       "      <td>É comum encontrar uma mensagem de erro que diz...</td>\n",
       "      <td>é comum encontrar uma mensagem de erro que diz...</td>\n",
       "    </tr>\n",
       "    <tr>\n",
       "      <th>4</th>\n",
       "      <td>17501</td>\n",
       "      <td>Qual é a diferença de API, biblioteca e Framew...</td>\n",
       "      <td>&lt;p&gt;Me parecem termos muito próximos e eventual...</td>\n",
       "      <td>&lt;api&gt;&lt;framework&gt;&lt;terminologia&gt;&lt;biblioteca&gt;</td>\n",
       "      <td>193</td>\n",
       "      <td>54191</td>\n",
       "      <td>Me parecem termos muito próximos e eventualmen...</td>\n",
       "      <td>me parecem termos muito próximos e eventualmen...</td>\n",
       "    </tr>\n",
       "  </tbody>\n",
       "</table>\n",
       "</div>"
      ],
      "text/plain": [
       "      Id                                             Título  \\\n",
       "0   2402         Como fazer hash de senhas de forma segura?   \n",
       "1   6441  Qual é a diferença entre INNER JOIN e OUTER JOIN?   \n",
       "2    579  Por que não devemos usar funções do tipo mysql_*?   \n",
       "3   2539           As mensagens de erro devem se desculpar?   \n",
       "4  17501  Qual é a diferença de API, biblioteca e Framew...   \n",
       "\n",
       "                                             Questão  \\\n",
       "0  <p>Se eu fizer o <em><a href=\"http://pt.wikipe...   \n",
       "1  <p>Qual é a diferença entre <code>INNER JOIN</...   \n",
       "2  <p>Uma dúvida muito comum é por que devemos pa...   \n",
       "3  <p>É comum encontrar uma mensagem de erro que ...   \n",
       "4  <p>Me parecem termos muito próximos e eventual...   \n",
       "\n",
       "                                         Tags  Pontuação  Visualizações  \\\n",
       "0     <hash><segurança><senhas><criptografia>        350          22367   \n",
       "1                                 <sql><join>        276         176953   \n",
       "2                                <php><mysql>        226           9761   \n",
       "3           <aplicação-web><gui><console><ux>        214           5075   \n",
       "4  <api><framework><terminologia><biblioteca>        193          54191   \n",
       "\n",
       "                                     questao_tratada  \\\n",
       "0  Se eu fizer o hash de senhas antes de armazená...   \n",
       "1  Qual é a diferença entre CODE e CODE? Podem me...   \n",
       "2  Uma dúvida muito comum é por que devemos parar...   \n",
       "3  É comum encontrar uma mensagem de erro que diz...   \n",
       "4  Me parecem termos muito próximos e eventualmen...   \n",
       "\n",
       "                                    questao_tratada2  \n",
       "0  se eu fizer o hash de senhas antes de armazená...  \n",
       "1  qual é a diferença entre code e code podem me ...  \n",
       "2  uma dúvida muito comum é por que devemos parar...  \n",
       "3  é comum encontrar uma mensagem de erro que diz...  \n",
       "4  me parecem termos muito próximos e eventualmen...  "
      ]
     },
     "execution_count": 28,
     "metadata": {},
     "output_type": "execute_result"
    }
   ],
   "source": [
    "portugues.head()"
   ]
  },
  {
   "cell_type": "markdown",
   "id": "196f0347",
   "metadata": {},
   "source": [
    "#### EN"
   ]
  },
  {
   "cell_type": "code",
   "execution_count": 29,
   "id": "dc187a92",
   "metadata": {},
   "outputs": [],
   "source": [
    "questoes_sem_pont_en = remover(ingles['questao_tratada'], regex_pontuacao)\n",
    "\n",
    "questoes_sem_pont_min_en = minusculo(questoes_sem_pont_en)\n",
    "\n",
    "questoes_sem_pont_min_digitos_en = remover(questoes_sem_pont_min_en, regex_digitos)\n",
    "\n",
    "questoes_sem_nada_en = substituir_espaco(questoes_sem_pont_min_digitos_en, regex_espaco)\n",
    "\n",
    "questoes_sem_nada2_en = substituir_espaco(questoes_sem_nada_en, regex_quebra_linha)"
   ]
  },
  {
   "cell_type": "code",
   "execution_count": 30,
   "id": "2c790618",
   "metadata": {},
   "outputs": [],
   "source": [
    "ingles['questao_tratada2'] = questoes_sem_nada2_en"
   ]
  },
  {
   "cell_type": "code",
   "execution_count": 31,
   "id": "9de2af36",
   "metadata": {},
   "outputs": [
    {
     "data": {
      "text/html": [
       "<div>\n",
       "<style scoped>\n",
       "    .dataframe tbody tr th:only-of-type {\n",
       "        vertical-align: middle;\n",
       "    }\n",
       "\n",
       "    .dataframe tbody tr th {\n",
       "        vertical-align: top;\n",
       "    }\n",
       "\n",
       "    .dataframe thead th {\n",
       "        text-align: right;\n",
       "    }\n",
       "</style>\n",
       "<table border=\"1\" class=\"dataframe\">\n",
       "  <thead>\n",
       "    <tr style=\"text-align: right;\">\n",
       "      <th></th>\n",
       "      <th>Id</th>\n",
       "      <th>Título</th>\n",
       "      <th>Questão</th>\n",
       "      <th>Tags</th>\n",
       "      <th>Pontuação</th>\n",
       "      <th>Visualizações</th>\n",
       "      <th>questao_tratada</th>\n",
       "      <th>questao_tratada2</th>\n",
       "    </tr>\n",
       "  </thead>\n",
       "  <tbody>\n",
       "    <tr>\n",
       "      <th>0</th>\n",
       "      <td>11227809</td>\n",
       "      <td>Why is it faster to process a sorted array tha...</td>\n",
       "      <td>&lt;p&gt;Here is a piece of C++ code that seems very...</td>\n",
       "      <td>&lt;java&gt;&lt;c++&gt;&lt;performance&gt;&lt;optimization&gt;&lt;branch-...</td>\n",
       "      <td>23057</td>\n",
       "      <td>1358574</td>\n",
       "      <td>Here is a piece of C++ code that seems very pe...</td>\n",
       "      <td>here is a piece of c code that seems very pecu...</td>\n",
       "    </tr>\n",
       "    <tr>\n",
       "      <th>1</th>\n",
       "      <td>927358</td>\n",
       "      <td>How do I undo the most recent local commits in...</td>\n",
       "      <td>&lt;p&gt;I accidentally committed the wrong files to...</td>\n",
       "      <td>&lt;git&gt;&lt;version-control&gt;&lt;git-commit&gt;&lt;undo&gt;</td>\n",
       "      <td>19640</td>\n",
       "      <td>7906137</td>\n",
       "      <td>I accidentally committed the wrong files to Gi...</td>\n",
       "      <td>i accidentally committed the wrong files to gi...</td>\n",
       "    </tr>\n",
       "    <tr>\n",
       "      <th>2</th>\n",
       "      <td>2003505</td>\n",
       "      <td>How do I delete a Git branch locally and remot...</td>\n",
       "      <td>&lt;p&gt;I want to delete a branch both locally and ...</td>\n",
       "      <td>&lt;git&gt;&lt;git-branch&gt;&lt;git-remote&gt;</td>\n",
       "      <td>15249</td>\n",
       "      <td>6940906</td>\n",
       "      <td>I want to delete a branch both locally and rem...</td>\n",
       "      <td>i want to delete a branch both locally and rem...</td>\n",
       "    </tr>\n",
       "    <tr>\n",
       "      <th>3</th>\n",
       "      <td>292357</td>\n",
       "      <td>What is the difference between 'git pull' and ...</td>\n",
       "      <td>&lt;blockquote&gt;\\n  &lt;p&gt;&lt;strong&gt;Moderator Note:&lt;/st...</td>\n",
       "      <td>&lt;git&gt;&lt;git-pull&gt;&lt;git-fetch&gt;</td>\n",
       "      <td>11008</td>\n",
       "      <td>2543052</td>\n",
       "      <td>\\n  Moderator Note: Given that this question h...</td>\n",
       "      <td>moderator note given that this question has ...</td>\n",
       "    </tr>\n",
       "    <tr>\n",
       "      <th>4</th>\n",
       "      <td>477816</td>\n",
       "      <td>What is the correct JSON content type?</td>\n",
       "      <td>&lt;p&gt;I've been messing around with &lt;a href=\"http...</td>\n",
       "      <td>&lt;json&gt;&lt;http-headers&gt;&lt;content-type&gt;</td>\n",
       "      <td>9701</td>\n",
       "      <td>2478940</td>\n",
       "      <td>I've been messing around with JSON for some ti...</td>\n",
       "      <td>ive been messing around with json for some tim...</td>\n",
       "    </tr>\n",
       "  </tbody>\n",
       "</table>\n",
       "</div>"
      ],
      "text/plain": [
       "         Id                                             Título  \\\n",
       "0  11227809  Why is it faster to process a sorted array tha...   \n",
       "1    927358  How do I undo the most recent local commits in...   \n",
       "2   2003505  How do I delete a Git branch locally and remot...   \n",
       "3    292357  What is the difference between 'git pull' and ...   \n",
       "4    477816             What is the correct JSON content type?   \n",
       "\n",
       "                                             Questão  \\\n",
       "0  <p>Here is a piece of C++ code that seems very...   \n",
       "1  <p>I accidentally committed the wrong files to...   \n",
       "2  <p>I want to delete a branch both locally and ...   \n",
       "3  <blockquote>\\n  <p><strong>Moderator Note:</st...   \n",
       "4  <p>I've been messing around with <a href=\"http...   \n",
       "\n",
       "                                                Tags  Pontuação  \\\n",
       "0  <java><c++><performance><optimization><branch-...      23057   \n",
       "1           <git><version-control><git-commit><undo>      19640   \n",
       "2                      <git><git-branch><git-remote>      15249   \n",
       "3                         <git><git-pull><git-fetch>      11008   \n",
       "4                 <json><http-headers><content-type>       9701   \n",
       "\n",
       "   Visualizações                                    questao_tratada  \\\n",
       "0        1358574  Here is a piece of C++ code that seems very pe...   \n",
       "1        7906137  I accidentally committed the wrong files to Gi...   \n",
       "2        6940906  I want to delete a branch both locally and rem...   \n",
       "3        2543052  \\n  Moderator Note: Given that this question h...   \n",
       "4        2478940  I've been messing around with JSON for some ti...   \n",
       "\n",
       "                                    questao_tratada2  \n",
       "0  here is a piece of c code that seems very pecu...  \n",
       "1  i accidentally committed the wrong files to gi...  \n",
       "2  i want to delete a branch both locally and rem...  \n",
       "3    moderator note given that this question has ...  \n",
       "4  ive been messing around with json for some tim...  "
      ]
     },
     "execution_count": 31,
     "metadata": {},
     "output_type": "execute_result"
    }
   ],
   "source": [
    "ingles.head()"
   ]
  },
  {
   "cell_type": "markdown",
   "id": "2bf4cea7",
   "metadata": {},
   "source": [
    "## Modelos de Linguagem"
   ]
  },
  {
   "cell_type": "code",
   "execution_count": 38,
   "id": "be74d5f1",
   "metadata": {},
   "outputs": [],
   "source": [
    "from nltk.util import bigrams\n",
    "from nltk.lm.preprocessing import pad_both_ends"
   ]
  },
  {
   "cell_type": "code",
   "execution_count": 41,
   "id": "16557619",
   "metadata": {},
   "outputs": [],
   "source": [
    "portugues['idioma'] = 'portugues'\n",
    "ingles['idioma'] = 'ingles'"
   ]
  },
  {
   "cell_type": "code",
   "execution_count": 42,
   "id": "9e0807cd",
   "metadata": {},
   "outputs": [
    {
     "data": {
      "text/html": [
       "<div>\n",
       "<style scoped>\n",
       "    .dataframe tbody tr th:only-of-type {\n",
       "        vertical-align: middle;\n",
       "    }\n",
       "\n",
       "    .dataframe tbody tr th {\n",
       "        vertical-align: top;\n",
       "    }\n",
       "\n",
       "    .dataframe thead th {\n",
       "        text-align: right;\n",
       "    }\n",
       "</style>\n",
       "<table border=\"1\" class=\"dataframe\">\n",
       "  <thead>\n",
       "    <tr style=\"text-align: right;\">\n",
       "      <th></th>\n",
       "      <th>Id</th>\n",
       "      <th>Título</th>\n",
       "      <th>Questão</th>\n",
       "      <th>Tags</th>\n",
       "      <th>Pontuação</th>\n",
       "      <th>Visualizações</th>\n",
       "      <th>questao_tratada</th>\n",
       "      <th>questao_tratada2</th>\n",
       "      <th>idioma</th>\n",
       "    </tr>\n",
       "  </thead>\n",
       "  <tbody>\n",
       "    <tr>\n",
       "      <th>0</th>\n",
       "      <td>2402</td>\n",
       "      <td>Como fazer hash de senhas de forma segura?</td>\n",
       "      <td>&lt;p&gt;Se eu fizer o &lt;em&gt;&lt;a href=\"http://pt.wikipe...</td>\n",
       "      <td>&lt;hash&gt;&lt;segurança&gt;&lt;senhas&gt;&lt;criptografia&gt;</td>\n",
       "      <td>350</td>\n",
       "      <td>22367</td>\n",
       "      <td>Se eu fizer o hash de senhas antes de armazená...</td>\n",
       "      <td>se eu fizer o hash de senhas antes de armazená...</td>\n",
       "      <td>portugues</td>\n",
       "    </tr>\n",
       "    <tr>\n",
       "      <th>1</th>\n",
       "      <td>6441</td>\n",
       "      <td>Qual é a diferença entre INNER JOIN e OUTER JOIN?</td>\n",
       "      <td>&lt;p&gt;Qual é a diferença entre &lt;code&gt;INNER JOIN&lt;/...</td>\n",
       "      <td>&lt;sql&gt;&lt;join&gt;</td>\n",
       "      <td>276</td>\n",
       "      <td>176953</td>\n",
       "      <td>Qual é a diferença entre CODE e CODE? Podem me...</td>\n",
       "      <td>qual é a diferença entre code e code podem me ...</td>\n",
       "      <td>portugues</td>\n",
       "    </tr>\n",
       "    <tr>\n",
       "      <th>2</th>\n",
       "      <td>579</td>\n",
       "      <td>Por que não devemos usar funções do tipo mysql_*?</td>\n",
       "      <td>&lt;p&gt;Uma dúvida muito comum é por que devemos pa...</td>\n",
       "      <td>&lt;php&gt;&lt;mysql&gt;</td>\n",
       "      <td>226</td>\n",
       "      <td>9761</td>\n",
       "      <td>Uma dúvida muito comum é por que devemos parar...</td>\n",
       "      <td>uma dúvida muito comum é por que devemos parar...</td>\n",
       "      <td>portugues</td>\n",
       "    </tr>\n",
       "    <tr>\n",
       "      <th>3</th>\n",
       "      <td>2539</td>\n",
       "      <td>As mensagens de erro devem se desculpar?</td>\n",
       "      <td>&lt;p&gt;É comum encontrar uma mensagem de erro que ...</td>\n",
       "      <td>&lt;aplicação-web&gt;&lt;gui&gt;&lt;console&gt;&lt;ux&gt;</td>\n",
       "      <td>214</td>\n",
       "      <td>5075</td>\n",
       "      <td>É comum encontrar uma mensagem de erro que diz...</td>\n",
       "      <td>é comum encontrar uma mensagem de erro que diz...</td>\n",
       "      <td>portugues</td>\n",
       "    </tr>\n",
       "    <tr>\n",
       "      <th>4</th>\n",
       "      <td>17501</td>\n",
       "      <td>Qual é a diferença de API, biblioteca e Framew...</td>\n",
       "      <td>&lt;p&gt;Me parecem termos muito próximos e eventual...</td>\n",
       "      <td>&lt;api&gt;&lt;framework&gt;&lt;terminologia&gt;&lt;biblioteca&gt;</td>\n",
       "      <td>193</td>\n",
       "      <td>54191</td>\n",
       "      <td>Me parecem termos muito próximos e eventualmen...</td>\n",
       "      <td>me parecem termos muito próximos e eventualmen...</td>\n",
       "      <td>portugues</td>\n",
       "    </tr>\n",
       "  </tbody>\n",
       "</table>\n",
       "</div>"
      ],
      "text/plain": [
       "      Id                                             Título  \\\n",
       "0   2402         Como fazer hash de senhas de forma segura?   \n",
       "1   6441  Qual é a diferença entre INNER JOIN e OUTER JOIN?   \n",
       "2    579  Por que não devemos usar funções do tipo mysql_*?   \n",
       "3   2539           As mensagens de erro devem se desculpar?   \n",
       "4  17501  Qual é a diferença de API, biblioteca e Framew...   \n",
       "\n",
       "                                             Questão  \\\n",
       "0  <p>Se eu fizer o <em><a href=\"http://pt.wikipe...   \n",
       "1  <p>Qual é a diferença entre <code>INNER JOIN</...   \n",
       "2  <p>Uma dúvida muito comum é por que devemos pa...   \n",
       "3  <p>É comum encontrar uma mensagem de erro que ...   \n",
       "4  <p>Me parecem termos muito próximos e eventual...   \n",
       "\n",
       "                                         Tags  Pontuação  Visualizações  \\\n",
       "0     <hash><segurança><senhas><criptografia>        350          22367   \n",
       "1                                 <sql><join>        276         176953   \n",
       "2                                <php><mysql>        226           9761   \n",
       "3           <aplicação-web><gui><console><ux>        214           5075   \n",
       "4  <api><framework><terminologia><biblioteca>        193          54191   \n",
       "\n",
       "                                     questao_tratada  \\\n",
       "0  Se eu fizer o hash de senhas antes de armazená...   \n",
       "1  Qual é a diferença entre CODE e CODE? Podem me...   \n",
       "2  Uma dúvida muito comum é por que devemos parar...   \n",
       "3  É comum encontrar uma mensagem de erro que diz...   \n",
       "4  Me parecem termos muito próximos e eventualmen...   \n",
       "\n",
       "                                    questao_tratada2     idioma  \n",
       "0  se eu fizer o hash de senhas antes de armazená...  portugues  \n",
       "1  qual é a diferença entre code e code podem me ...  portugues  \n",
       "2  uma dúvida muito comum é por que devemos parar...  portugues  \n",
       "3  é comum encontrar uma mensagem de erro que diz...  portugues  \n",
       "4  me parecem termos muito próximos e eventualmen...  portugues  "
      ]
     },
     "execution_count": 42,
     "metadata": {},
     "output_type": "execute_result"
    }
   ],
   "source": [
    "portugues.head()"
   ]
  },
  {
   "cell_type": "code",
   "execution_count": 43,
   "id": "7df9b0a3",
   "metadata": {},
   "outputs": [],
   "source": [
    "from sklearn.model_selection import train_test_split"
   ]
  },
  {
   "cell_type": "code",
   "execution_count": 45,
   "id": "7f88b3bf",
   "metadata": {},
   "outputs": [
    {
     "data": {
      "text/plain": [
       "(500, 9)"
      ]
     },
     "execution_count": 45,
     "metadata": {},
     "output_type": "execute_result"
    }
   ],
   "source": [
    "portugues.shape"
   ]
  },
  {
   "cell_type": "code",
   "execution_count": 47,
   "id": "a1219e6b",
   "metadata": {},
   "outputs": [],
   "source": [
    "SEED = 123\n",
    "pt_train,pt_test = train_test_split(portugues['questao_tratada2'],test_size=0.2,random_state=SEED)"
   ]
  },
  {
   "cell_type": "code",
   "execution_count": 50,
   "id": "310be724",
   "metadata": {},
   "outputs": [],
   "source": [
    "en_train,en_test = train_test_split(ingles['questao_tratada2'],test_size=0.2,random_state=SEED)"
   ]
  },
  {
   "cell_type": "markdown",
   "id": "861554b3",
   "metadata": {},
   "source": [
    "### Juntando todas questões"
   ]
  },
  {
   "cell_type": "code",
   "execution_count": 51,
   "id": "9c17f1cb",
   "metadata": {},
   "outputs": [],
   "source": [
    "todas_questoes_pt = ' '.join(pt_train)"
   ]
  },
  {
   "cell_type": "code",
   "execution_count": 52,
   "id": "c240e191",
   "metadata": {},
   "outputs": [],
   "source": [
    "from nltk.tokenize import WhitespaceTokenizer"
   ]
  },
  {
   "cell_type": "code",
   "execution_count": 53,
   "id": "97a63643",
   "metadata": {},
   "outputs": [],
   "source": [
    "todas_palavras_pt = WhitespaceTokenizer().tokenize(todas_questoes_pt)"
   ]
  },
  {
   "cell_type": "code",
   "execution_count": 54,
   "id": "6fa01823",
   "metadata": {},
   "outputs": [
    {
     "data": {
      "text/plain": [
       "36716"
      ]
     },
     "execution_count": 54,
     "metadata": {},
     "output_type": "execute_result"
    }
   ],
   "source": [
    "len(todas_palavras_pt)"
   ]
  },
  {
   "cell_type": "markdown",
   "id": "d57f49c9",
   "metadata": {},
   "source": [
    "### Transformando em bigramas"
   ]
  },
  {
   "cell_type": "code",
   "execution_count": 56,
   "id": "a36845b2",
   "metadata": {},
   "outputs": [],
   "source": [
    "from nltk.lm.preprocessing import padded_everygram_pipeline"
   ]
  },
  {
   "cell_type": "code",
   "execution_count": 57,
   "id": "73ddd061",
   "metadata": {},
   "outputs": [],
   "source": [
    "pt_train_bigram, vocab_pt = padded_everygram_pipeline(2,todas_palavras_pt)"
   ]
  },
  {
   "cell_type": "markdown",
   "id": "b14fce0e",
   "metadata": {},
   "source": [
    "### Modelo de Máxima Verossimilhança (MLE)"
   ]
  },
  {
   "cell_type": "code",
   "execution_count": 60,
   "id": "ee0b3583",
   "metadata": {},
   "outputs": [],
   "source": [
    "from nltk.lm import MLE"
   ]
  },
  {
   "cell_type": "code",
   "execution_count": 61,
   "id": "bab534f2",
   "metadata": {},
   "outputs": [],
   "source": [
    "modelo_pt = MLE(2)"
   ]
  },
  {
   "cell_type": "code",
   "execution_count": 62,
   "id": "f82bd838",
   "metadata": {},
   "outputs": [],
   "source": [
    "modelo_pt.fit(pt_train_bigram, vocab_pt)"
   ]
  },
  {
   "cell_type": "code",
   "execution_count": 80,
   "id": "b30ae3a7",
   "metadata": {},
   "outputs": [
    {
     "data": {
      "text/plain": [
       "['t', 'o', 'r', 'a']"
      ]
     },
     "execution_count": 80,
     "metadata": {},
     "output_type": "execute_result"
    }
   ],
   "source": [
    "modelo_pt.generate(num_words=4)"
   ]
  },
  {
   "cell_type": "code",
   "execution_count": null,
   "id": "12c7240c",
   "metadata": {},
   "outputs": [],
   "source": [
    "modelo_pt.perplexity()"
   ]
  },
  {
   "cell_type": "code",
   "execution_count": 81,
   "id": "32db2c71",
   "metadata": {},
   "outputs": [],
   "source": [
    "def treinar_modelo_mle(lista_textos):\n",
    "    todas_questoes = ' '.join(lista_textos)\n",
    "    todas_palavras = WhitespaceTokenizer().tokenize(todas_questoes)\n",
    "    bigram, vocab = padded_everygram_pipeline(2,todas_palavras)\n",
    "    modelo = MLE(2)\n",
    "    modelo.fit(bigram, vocab)\n",
    "    \n",
    "    return modelo"
   ]
  },
  {
   "cell_type": "code",
   "execution_count": 82,
   "id": "1a587203",
   "metadata": {},
   "outputs": [],
   "source": [
    "modelo_pt = treinar_modelo_mle(pt_train)\n",
    "modelo_en = treinar_modelo_mle(en_train)"
   ]
  },
  {
   "cell_type": "code",
   "execution_count": 85,
   "id": "de8b0514",
   "metadata": {},
   "outputs": [],
   "source": [
    "def calcular_perplexidade(modelo, texto):\n",
    "    \n",
    "    perplexidade = 0\n",
    "    \n",
    "    palavras = WhitespaceTokenizer().tokenize(texto)\n",
    "    palavras_fakechar = [list(pad_both_ends(palavra, n=2)) for palavra in palavras]\n",
    "    palavras_bigramns = [list(bigrams(palavra)) for palavra in palavras_fakechar]\n",
    "    \n",
    "    for palavra in palavras_bigramns:\n",
    "        perplexidade += modelo.perplexity(palavra)\n",
    "    \n",
    "    return perplexidade\n",
    "    "
   ]
  },
  {
   "cell_type": "code",
   "execution_count": 91,
   "id": "babf3255",
   "metadata": {},
   "outputs": [
    {
     "name": "stdout",
     "output_type": "stream",
     "text": [
      "2006.9786364086417\n"
     ]
    }
   ],
   "source": [
    "print(calcular_perplexidade(modelo_pt,pt_test.iloc[0]))"
   ]
  },
  {
   "cell_type": "code",
   "execution_count": 92,
   "id": "8b88954a",
   "metadata": {},
   "outputs": [
    {
     "data": {
      "text/plain": [
       "'até a época em que os computadores eram puramente mecânicos e eram programados por cartões perfurados eu entendo como funciona depois quando surgiram os primeiros computadores digitais operados com válvulas e relés fica mais complicado de compreender como eram feitas as programações imagino que deveria haver algo semelhante a um compartimento com uma matriz de relés semelhante aos cartões perfurados pré programada que continha um programa fixo e único a ser executado pela máquina quando fosse preciso trocar o programa os programadores apenas rearranjavam as válvulas e a máquina continuava a trabalhar  como surgiu essa noção que temos de programação hoje que o programador digita códigos em um editor de texto e compila eu não consigo imaginar como chegou a esse ponto por exemplo o assembly ele é apenas traduzido de textos para binário pelo assembler mas poxa seria preciso ter outra linguagem de programação para se criar o assembler  suponha que só existam os computadores controlados por relés e válvulas como que alguém conseguiria escrever um código em assembly sendo que não existia editor de textos nem nada  o resultado de uma montagem é outro arquivo no formato texto com s e s apenas ou são impulsos elétricos enviados para a máquina valvulada '"
      ]
     },
     "execution_count": 92,
     "metadata": {},
     "output_type": "execute_result"
    }
   ],
   "source": [
    "pt_test.iloc[0]"
   ]
  },
  {
   "cell_type": "code",
   "execution_count": 93,
   "id": "68d7b77d",
   "metadata": {},
   "outputs": [
    {
     "name": "stdout",
     "output_type": "stream",
     "text": [
      "inf\n"
     ]
    }
   ],
   "source": [
    "print(calcular_perplexidade(modelo_en,pt_test.iloc[0]))"
   ]
  },
  {
   "cell_type": "markdown",
   "id": "ecb12ddd",
   "metadata": {},
   "source": [
    "### Modelo de Laplace"
   ]
  },
  {
   "cell_type": "code",
   "execution_count": 94,
   "id": "473d7e94",
   "metadata": {},
   "outputs": [],
   "source": [
    "from nltk.lm.models import Laplace"
   ]
  },
  {
   "cell_type": "code",
   "execution_count": 95,
   "id": "5e7f3bf7",
   "metadata": {},
   "outputs": [],
   "source": [
    "def treinar_modelo_laplace(lista_textos):\n",
    "    todas_questoes = ' '.join(lista_textos)\n",
    "    todas_palavras = WhitespaceTokenizer().tokenize(todas_questoes)\n",
    "    bigram, vocab = padded_everygram_pipeline(2,todas_palavras)\n",
    "    modelo = Laplace(2)\n",
    "    modelo.fit(bigram, vocab)\n",
    "    \n",
    "    return modelo"
   ]
  },
  {
   "cell_type": "code",
   "execution_count": 96,
   "id": "aeca7abe",
   "metadata": {},
   "outputs": [],
   "source": [
    "modelo_en_laplace = treinar_modelo_laplace(en_train)"
   ]
  },
  {
   "cell_type": "code",
   "execution_count": 97,
   "id": "c883c62e",
   "metadata": {},
   "outputs": [
    {
     "name": "stdout",
     "output_type": "stream",
     "text": [
      "5876.837588345698\n"
     ]
    }
   ],
   "source": [
    "print(calcular_perplexidade(modelo_en_laplace,pt_test.iloc[0]))"
   ]
  },
  {
   "cell_type": "code",
   "execution_count": 98,
   "id": "cfc1fc31",
   "metadata": {},
   "outputs": [],
   "source": [
    "modelo_pt_laplace = treinar_modelo_laplace(pt_train)"
   ]
  },
  {
   "cell_type": "code",
   "execution_count": 99,
   "id": "77209f0a",
   "metadata": {},
   "outputs": [
    {
     "name": "stdout",
     "output_type": "stream",
     "text": [
      "2009.1937946178912\n"
     ]
    }
   ],
   "source": [
    "print(calcular_perplexidade(modelo_pt_laplace,pt_test.iloc[0]))"
   ]
  },
  {
   "cell_type": "markdown",
   "id": "ff952820",
   "metadata": {},
   "source": [
    "### Atribuindo idiomas"
   ]
  },
  {
   "cell_type": "code",
   "execution_count": 103,
   "id": "c4280908",
   "metadata": {},
   "outputs": [],
   "source": [
    "def atribuir_idioma(lista_textos):\n",
    "    \n",
    "    idioma = []\n",
    "    for texto in lista_textos:\n",
    "        port = calcular_perplexidade(modelo_pt_laplace, texto)\n",
    "        ingl = calcular_perplexidade(modelo_en_laplace, texto)\n",
    "        if port <= ingl:\n",
    "            idioma.append('Português')\n",
    "        else:\n",
    "            idioma.append('Inglês')\n",
    "    return idioma"
   ]
  },
  {
   "cell_type": "code",
   "execution_count": 104,
   "id": "a361c20b",
   "metadata": {},
   "outputs": [],
   "source": [
    "resultados_pt = atribuir_idioma(pt_test)"
   ]
  },
  {
   "cell_type": "code",
   "execution_count": 107,
   "id": "fafe4193",
   "metadata": {},
   "outputs": [
    {
     "data": {
      "text/plain": [
       "100"
      ]
     },
     "execution_count": 107,
     "metadata": {},
     "output_type": "execute_result"
    }
   ],
   "source": [
    "resultados_pt.count('Português')"
   ]
  },
  {
   "cell_type": "code",
   "execution_count": 108,
   "id": "f0b0cd5d",
   "metadata": {},
   "outputs": [
    {
     "data": {
      "text/plain": [
       "100"
      ]
     },
     "execution_count": 108,
     "metadata": {},
     "output_type": "execute_result"
    }
   ],
   "source": [
    "resultados_en = atribuir_idioma(en_test)\n",
    "resultados_en.count('Inglês')"
   ]
  },
  {
   "cell_type": "code",
   "execution_count": null,
   "id": "e8bba1d1",
   "metadata": {},
   "outputs": [],
   "source": []
  }
 ],
 "metadata": {
  "kernelspec": {
   "display_name": "Python 3 (ipykernel)",
   "language": "python",
   "name": "python3"
  },
  "language_info": {
   "codemirror_mode": {
    "name": "ipython",
    "version": 3
   },
   "file_extension": ".py",
   "mimetype": "text/x-python",
   "name": "python",
   "nbconvert_exporter": "python",
   "pygments_lexer": "ipython3",
   "version": "3.8.1"
  }
 },
 "nbformat": 4,
 "nbformat_minor": 5
}
